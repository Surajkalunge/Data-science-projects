{
 "cells": [
  {
   "cell_type": "code",
   "execution_count": 1,
   "id": "5b9508d3",
   "metadata": {
    "execution": {
     "iopub.execute_input": "2023-01-14T10:50:56.470481Z",
     "iopub.status.busy": "2023-01-14T10:50:56.470012Z",
     "iopub.status.idle": "2023-01-14T10:51:12.315272Z",
     "shell.execute_reply": "2023-01-14T10:51:12.314196Z"
    },
    "papermill": {
     "duration": 15.863257,
     "end_time": "2023-01-14T10:51:12.318482",
     "exception": false,
     "start_time": "2023-01-14T10:50:56.455225",
     "status": "completed"
    },
    "tags": []
   },
   "outputs": [
    {
     "name": "stdout",
     "output_type": "stream",
     "text": [
      "Collecting pyforest\r\n",
      "  Downloading pyforest-1.1.0.tar.gz (15 kB)\r\n",
      "  Preparing metadata (setup.py) ... \u001b[?25l-\b \bdone\r\n",
      "\u001b[?25hBuilding wheels for collected packages: pyforest\r\n",
      "  Building wheel for pyforest (setup.py) ... \u001b[?25l-\b \b\\\b \bdone\r\n",
      "\u001b[?25h  Created wheel for pyforest: filename=pyforest-1.1.0-py2.py3-none-any.whl size=14607 sha256=b7d2864c3b8b021ebdc6ec0fd3faf2f754e1dcbb9d751af2eb3912cbefc51715\r\n",
      "  Stored in directory: /root/.cache/pip/wheels/61/1c/da/48e6c884142d485475d852d69d20a096aba5beceb338822893\r\n",
      "Successfully built pyforest\r\n",
      "Installing collected packages: pyforest\r\n",
      "Successfully installed pyforest-1.1.0\r\n",
      "\u001b[33mWARNING: Running pip as the 'root' user can result in broken permissions and conflicting behaviour with the system package manager. It is recommended to use a virtual environment instead: https://pip.pypa.io/warnings/venv\u001b[0m\u001b[33m\r\n",
      "\u001b[0m"
     ]
    }
   ],
   "source": [
    "!pip install pyforest "
   ]
  },
  {
   "cell_type": "markdown",
   "id": "f55d5c4d",
   "metadata": {
    "papermill": {
     "duration": 0.013346,
     "end_time": "2023-01-14T10:51:12.344342",
     "exception": false,
     "start_time": "2023-01-14T10:51:12.330996",
     "status": "completed"
    },
    "tags": []
   },
   "source": [
    "### Importing libraries"
   ]
  },
  {
   "cell_type": "code",
   "execution_count": 2,
   "id": "3176d923",
   "metadata": {
    "execution": {
     "iopub.execute_input": "2023-01-14T10:51:12.370141Z",
     "iopub.status.busy": "2023-01-14T10:51:12.369726Z",
     "iopub.status.idle": "2023-01-14T10:51:14.773411Z",
     "shell.execute_reply": "2023-01-14T10:51:14.772162Z"
    },
    "papermill": {
     "duration": 2.419957,
     "end_time": "2023-01-14T10:51:14.776260",
     "exception": false,
     "start_time": "2023-01-14T10:51:12.356303",
     "status": "completed"
    },
    "tags": []
   },
   "outputs": [],
   "source": [
    "import pyforest\n",
    "from sklearn import metrics\n",
    "import matplotlib.pyplot as plt   \n",
    "import matplotlib.style\n",
    "%matplotlib inline \n",
    "import statsmodels.api as sm\n",
    "from sklearn.model_selection import train_test_split\n",
    "from sklearn.linear_model import LinearRegression\n",
    "from sklearn.metrics import mean_squared_error\n",
    "from statsmodels.stats.outliers_influence import variance_inflation_factor\n",
    "import math"
   ]
  },
  {
   "cell_type": "markdown",
   "id": "915b1c19",
   "metadata": {
    "papermill": {
     "duration": 0.011947,
     "end_time": "2023-01-14T10:51:14.800051",
     "exception": false,
     "start_time": "2023-01-14T10:51:14.788104",
     "status": "completed"
    },
    "tags": []
   },
   "source": [
    "### Importing Data "
   ]
  },
  {
   "cell_type": "code",
   "execution_count": 3,
   "id": "91ffe43e",
   "metadata": {
    "execution": {
     "iopub.execute_input": "2023-01-14T10:51:14.825939Z",
     "iopub.status.busy": "2023-01-14T10:51:14.825504Z",
     "iopub.status.idle": "2023-01-14T10:51:14.902646Z",
     "shell.execute_reply": "2023-01-14T10:51:14.901500Z"
    },
    "papermill": {
     "duration": 0.093197,
     "end_time": "2023-01-14T10:51:14.905046",
     "exception": false,
     "start_time": "2023-01-14T10:51:14.811849",
     "status": "completed"
    },
    "tags": []
   },
   "outputs": [
    {
     "data": {
      "application/javascript": [
       "\n",
       "        if (window._pyforest_update_imports_cell) { window._pyforest_update_imports_cell('import pandas as pd'); }\n",
       "    "
      ],
      "text/plain": [
       "<IPython.core.display.Javascript object>"
      ]
     },
     "metadata": {},
     "output_type": "display_data"
    },
    {
     "data": {
      "text/html": [
       "<div>\n",
       "<style scoped>\n",
       "    .dataframe tbody tr th:only-of-type {\n",
       "        vertical-align: middle;\n",
       "    }\n",
       "\n",
       "    .dataframe tbody tr th {\n",
       "        vertical-align: top;\n",
       "    }\n",
       "\n",
       "    .dataframe thead th {\n",
       "        text-align: right;\n",
       "    }\n",
       "</style>\n",
       "<table border=\"1\" class=\"dataframe\">\n",
       "  <thead>\n",
       "    <tr style=\"text-align: right;\">\n",
       "      <th></th>\n",
       "      <th>price</th>\n",
       "      <th>bedrooms</th>\n",
       "      <th>bathrooms</th>\n",
       "      <th>sqft_living</th>\n",
       "      <th>sqft_lot</th>\n",
       "      <th>floors</th>\n",
       "      <th>waterfront</th>\n",
       "      <th>view</th>\n",
       "      <th>condition</th>\n",
       "      <th>sqft_above</th>\n",
       "      <th>sqft_basement</th>\n",
       "      <th>yr_built</th>\n",
       "      <th>yr_renovated</th>\n",
       "      <th>street</th>\n",
       "      <th>city</th>\n",
       "      <th>statezip</th>\n",
       "      <th>country</th>\n",
       "    </tr>\n",
       "    <tr>\n",
       "      <th>date</th>\n",
       "      <th></th>\n",
       "      <th></th>\n",
       "      <th></th>\n",
       "      <th></th>\n",
       "      <th></th>\n",
       "      <th></th>\n",
       "      <th></th>\n",
       "      <th></th>\n",
       "      <th></th>\n",
       "      <th></th>\n",
       "      <th></th>\n",
       "      <th></th>\n",
       "      <th></th>\n",
       "      <th></th>\n",
       "      <th></th>\n",
       "      <th></th>\n",
       "      <th></th>\n",
       "    </tr>\n",
       "  </thead>\n",
       "  <tbody>\n",
       "    <tr>\n",
       "      <th>2014-05-02 00:00:00</th>\n",
       "      <td>313000.0</td>\n",
       "      <td>3.0</td>\n",
       "      <td>1.50</td>\n",
       "      <td>1340</td>\n",
       "      <td>7912</td>\n",
       "      <td>1.5</td>\n",
       "      <td>0</td>\n",
       "      <td>0</td>\n",
       "      <td>3</td>\n",
       "      <td>1340</td>\n",
       "      <td>0</td>\n",
       "      <td>1955</td>\n",
       "      <td>2005</td>\n",
       "      <td>18810 Densmore Ave N</td>\n",
       "      <td>Shoreline</td>\n",
       "      <td>WA 98133</td>\n",
       "      <td>USA</td>\n",
       "    </tr>\n",
       "    <tr>\n",
       "      <th>2014-05-02 00:00:00</th>\n",
       "      <td>2384000.0</td>\n",
       "      <td>5.0</td>\n",
       "      <td>2.50</td>\n",
       "      <td>3650</td>\n",
       "      <td>9050</td>\n",
       "      <td>2.0</td>\n",
       "      <td>0</td>\n",
       "      <td>4</td>\n",
       "      <td>5</td>\n",
       "      <td>3370</td>\n",
       "      <td>280</td>\n",
       "      <td>1921</td>\n",
       "      <td>0</td>\n",
       "      <td>709 W Blaine St</td>\n",
       "      <td>Seattle</td>\n",
       "      <td>WA 98119</td>\n",
       "      <td>USA</td>\n",
       "    </tr>\n",
       "    <tr>\n",
       "      <th>2014-05-02 00:00:00</th>\n",
       "      <td>342000.0</td>\n",
       "      <td>3.0</td>\n",
       "      <td>2.00</td>\n",
       "      <td>1930</td>\n",
       "      <td>11947</td>\n",
       "      <td>1.0</td>\n",
       "      <td>0</td>\n",
       "      <td>0</td>\n",
       "      <td>4</td>\n",
       "      <td>1930</td>\n",
       "      <td>0</td>\n",
       "      <td>1966</td>\n",
       "      <td>0</td>\n",
       "      <td>26206-26214 143rd Ave SE</td>\n",
       "      <td>Kent</td>\n",
       "      <td>WA 98042</td>\n",
       "      <td>USA</td>\n",
       "    </tr>\n",
       "    <tr>\n",
       "      <th>2014-05-02 00:00:00</th>\n",
       "      <td>420000.0</td>\n",
       "      <td>3.0</td>\n",
       "      <td>2.25</td>\n",
       "      <td>2000</td>\n",
       "      <td>8030</td>\n",
       "      <td>1.0</td>\n",
       "      <td>0</td>\n",
       "      <td>0</td>\n",
       "      <td>4</td>\n",
       "      <td>1000</td>\n",
       "      <td>1000</td>\n",
       "      <td>1963</td>\n",
       "      <td>0</td>\n",
       "      <td>857 170th Pl NE</td>\n",
       "      <td>Bellevue</td>\n",
       "      <td>WA 98008</td>\n",
       "      <td>USA</td>\n",
       "    </tr>\n",
       "    <tr>\n",
       "      <th>2014-05-02 00:00:00</th>\n",
       "      <td>550000.0</td>\n",
       "      <td>4.0</td>\n",
       "      <td>2.50</td>\n",
       "      <td>1940</td>\n",
       "      <td>10500</td>\n",
       "      <td>1.0</td>\n",
       "      <td>0</td>\n",
       "      <td>0</td>\n",
       "      <td>4</td>\n",
       "      <td>1140</td>\n",
       "      <td>800</td>\n",
       "      <td>1976</td>\n",
       "      <td>1992</td>\n",
       "      <td>9105 170th Ave NE</td>\n",
       "      <td>Redmond</td>\n",
       "      <td>WA 98052</td>\n",
       "      <td>USA</td>\n",
       "    </tr>\n",
       "  </tbody>\n",
       "</table>\n",
       "</div>"
      ],
      "text/plain": [
       "                         price  bedrooms  bathrooms  sqft_living  sqft_lot  \\\n",
       "date                                                                         \n",
       "2014-05-02 00:00:00   313000.0       3.0       1.50         1340      7912   \n",
       "2014-05-02 00:00:00  2384000.0       5.0       2.50         3650      9050   \n",
       "2014-05-02 00:00:00   342000.0       3.0       2.00         1930     11947   \n",
       "2014-05-02 00:00:00   420000.0       3.0       2.25         2000      8030   \n",
       "2014-05-02 00:00:00   550000.0       4.0       2.50         1940     10500   \n",
       "\n",
       "                     floors  waterfront  view  condition  sqft_above  \\\n",
       "date                                                                   \n",
       "2014-05-02 00:00:00     1.5           0     0          3        1340   \n",
       "2014-05-02 00:00:00     2.0           0     4          5        3370   \n",
       "2014-05-02 00:00:00     1.0           0     0          4        1930   \n",
       "2014-05-02 00:00:00     1.0           0     0          4        1000   \n",
       "2014-05-02 00:00:00     1.0           0     0          4        1140   \n",
       "\n",
       "                     sqft_basement  yr_built  yr_renovated  \\\n",
       "date                                                         \n",
       "2014-05-02 00:00:00              0      1955          2005   \n",
       "2014-05-02 00:00:00            280      1921             0   \n",
       "2014-05-02 00:00:00              0      1966             0   \n",
       "2014-05-02 00:00:00           1000      1963             0   \n",
       "2014-05-02 00:00:00            800      1976          1992   \n",
       "\n",
       "                                       street       city  statezip country  \n",
       "date                                                                        \n",
       "2014-05-02 00:00:00      18810 Densmore Ave N  Shoreline  WA 98133     USA  \n",
       "2014-05-02 00:00:00           709 W Blaine St    Seattle  WA 98119     USA  \n",
       "2014-05-02 00:00:00  26206-26214 143rd Ave SE       Kent  WA 98042     USA  \n",
       "2014-05-02 00:00:00           857 170th Pl NE   Bellevue  WA 98008     USA  \n",
       "2014-05-02 00:00:00         9105 170th Ave NE    Redmond  WA 98052     USA  "
      ]
     },
     "execution_count": 3,
     "metadata": {},
     "output_type": "execute_result"
    }
   ],
   "source": [
    "df= pd.read_csv('/kaggle/input/housedata/data.csv',index_col=0)\n",
    "df.head()"
   ]
  },
  {
   "cell_type": "code",
   "execution_count": 4,
   "id": "7cb35ffe",
   "metadata": {
    "execution": {
     "iopub.execute_input": "2023-01-14T10:51:14.932186Z",
     "iopub.status.busy": "2023-01-14T10:51:14.931113Z",
     "iopub.status.idle": "2023-01-14T10:51:14.939139Z",
     "shell.execute_reply": "2023-01-14T10:51:14.937981Z"
    },
    "papermill": {
     "duration": 0.02403,
     "end_time": "2023-01-14T10:51:14.941534",
     "exception": false,
     "start_time": "2023-01-14T10:51:14.917504",
     "status": "completed"
    },
    "tags": []
   },
   "outputs": [
    {
     "data": {
      "text/plain": [
       "Index(['price', 'bedrooms', 'bathrooms', 'sqft_living', 'sqft_lot', 'floors',\n",
       "       'waterfront', 'view', 'condition', 'sqft_above', 'sqft_basement',\n",
       "       'yr_built', 'yr_renovated', 'street', 'city', 'statezip', 'country'],\n",
       "      dtype='object')"
      ]
     },
     "execution_count": 4,
     "metadata": {},
     "output_type": "execute_result"
    }
   ],
   "source": [
    "df.columns"
   ]
  },
  {
   "cell_type": "code",
   "execution_count": 5,
   "id": "914147f3",
   "metadata": {
    "execution": {
     "iopub.execute_input": "2023-01-14T10:51:14.967944Z",
     "iopub.status.busy": "2023-01-14T10:51:14.967535Z",
     "iopub.status.idle": "2023-01-14T10:51:14.976155Z",
     "shell.execute_reply": "2023-01-14T10:51:14.974882Z"
    },
    "papermill": {
     "duration": 0.02517,
     "end_time": "2023-01-14T10:51:14.979012",
     "exception": false,
     "start_time": "2023-01-14T10:51:14.953842",
     "status": "completed"
    },
    "tags": []
   },
   "outputs": [],
   "source": [
    "df1=df.drop(labels=['waterfront', 'view'], axis=1)"
   ]
  },
  {
   "cell_type": "code",
   "execution_count": 6,
   "id": "d742de3f",
   "metadata": {
    "execution": {
     "iopub.execute_input": "2023-01-14T10:51:15.006449Z",
     "iopub.status.busy": "2023-01-14T10:51:15.005986Z",
     "iopub.status.idle": "2023-01-14T10:51:15.014092Z",
     "shell.execute_reply": "2023-01-14T10:51:15.012943Z"
    },
    "papermill": {
     "duration": 0.024618,
     "end_time": "2023-01-14T10:51:15.016536",
     "exception": false,
     "start_time": "2023-01-14T10:51:14.991918",
     "status": "completed"
    },
    "tags": []
   },
   "outputs": [
    {
     "data": {
      "text/plain": [
       "(4600, 15)"
      ]
     },
     "execution_count": 6,
     "metadata": {},
     "output_type": "execute_result"
    }
   ],
   "source": [
    "df1.shape"
   ]
  },
  {
   "cell_type": "code",
   "execution_count": 7,
   "id": "98c2811c",
   "metadata": {
    "execution": {
     "iopub.execute_input": "2023-01-14T10:51:15.044289Z",
     "iopub.status.busy": "2023-01-14T10:51:15.043403Z",
     "iopub.status.idle": "2023-01-14T10:51:15.067220Z",
     "shell.execute_reply": "2023-01-14T10:51:15.066025Z"
    },
    "papermill": {
     "duration": 0.041469,
     "end_time": "2023-01-14T10:51:15.070674",
     "exception": false,
     "start_time": "2023-01-14T10:51:15.029205",
     "status": "completed"
    },
    "tags": []
   },
   "outputs": [
    {
     "name": "stdout",
     "output_type": "stream",
     "text": [
      "<class 'pandas.core.frame.DataFrame'>\n",
      "Index: 4600 entries, 2014-05-02 00:00:00 to 2014-07-10 00:00:00\n",
      "Data columns (total 15 columns):\n",
      " #   Column         Non-Null Count  Dtype  \n",
      "---  ------         --------------  -----  \n",
      " 0   price          4600 non-null   float64\n",
      " 1   bedrooms       4600 non-null   float64\n",
      " 2   bathrooms      4600 non-null   float64\n",
      " 3   sqft_living    4600 non-null   int64  \n",
      " 4   sqft_lot       4600 non-null   int64  \n",
      " 5   floors         4600 non-null   float64\n",
      " 6   condition      4600 non-null   int64  \n",
      " 7   sqft_above     4600 non-null   int64  \n",
      " 8   sqft_basement  4600 non-null   int64  \n",
      " 9   yr_built       4600 non-null   int64  \n",
      " 10  yr_renovated   4600 non-null   int64  \n",
      " 11  street         4600 non-null   object \n",
      " 12  city           4600 non-null   object \n",
      " 13  statezip       4600 non-null   object \n",
      " 14  country        4600 non-null   object \n",
      "dtypes: float64(4), int64(7), object(4)\n",
      "memory usage: 575.0+ KB\n"
     ]
    }
   ],
   "source": [
    "df1.info()"
   ]
  },
  {
   "cell_type": "markdown",
   "id": "e63706dc",
   "metadata": {
    "papermill": {
     "duration": 0.012049,
     "end_time": "2023-01-14T10:51:15.095253",
     "exception": false,
     "start_time": "2023-01-14T10:51:15.083204",
     "status": "completed"
    },
    "tags": []
   },
   "source": [
    "### Checking null values and duplicates"
   ]
  },
  {
   "cell_type": "code",
   "execution_count": 8,
   "id": "3df12b44",
   "metadata": {
    "execution": {
     "iopub.execute_input": "2023-01-14T10:51:15.122750Z",
     "iopub.status.busy": "2023-01-14T10:51:15.121538Z",
     "iopub.status.idle": "2023-01-14T10:51:15.132647Z",
     "shell.execute_reply": "2023-01-14T10:51:15.131379Z"
    },
    "papermill": {
     "duration": 0.027886,
     "end_time": "2023-01-14T10:51:15.135538",
     "exception": false,
     "start_time": "2023-01-14T10:51:15.107652",
     "status": "completed"
    },
    "tags": []
   },
   "outputs": [
    {
     "data": {
      "text/plain": [
       "price            0\n",
       "bedrooms         0\n",
       "bathrooms        0\n",
       "sqft_living      0\n",
       "sqft_lot         0\n",
       "floors           0\n",
       "condition        0\n",
       "sqft_above       0\n",
       "sqft_basement    0\n",
       "yr_built         0\n",
       "yr_renovated     0\n",
       "street           0\n",
       "city             0\n",
       "statezip         0\n",
       "country          0\n",
       "dtype: int64"
      ]
     },
     "execution_count": 8,
     "metadata": {},
     "output_type": "execute_result"
    }
   ],
   "source": [
    "df1.isnull().sum()"
   ]
  },
  {
   "cell_type": "code",
   "execution_count": 9,
   "id": "9016f9f3",
   "metadata": {
    "execution": {
     "iopub.execute_input": "2023-01-14T10:51:15.163681Z",
     "iopub.status.busy": "2023-01-14T10:51:15.163212Z",
     "iopub.status.idle": "2023-01-14T10:51:15.179543Z",
     "shell.execute_reply": "2023-01-14T10:51:15.178433Z"
    },
    "papermill": {
     "duration": 0.032947,
     "end_time": "2023-01-14T10:51:15.181855",
     "exception": false,
     "start_time": "2023-01-14T10:51:15.148908",
     "status": "completed"
    },
    "tags": []
   },
   "outputs": [
    {
     "data": {
      "text/plain": [
       "0"
      ]
     },
     "execution_count": 9,
     "metadata": {},
     "output_type": "execute_result"
    }
   ],
   "source": [
    "df1.duplicated().sum()"
   ]
  },
  {
   "cell_type": "markdown",
   "id": "faf83c58",
   "metadata": {
    "papermill": {
     "duration": 0.013189,
     "end_time": "2023-01-14T10:51:15.207811",
     "exception": false,
     "start_time": "2023-01-14T10:51:15.194622",
     "status": "completed"
    },
    "tags": []
   },
   "source": [
    "### Exploratory data analysis"
   ]
  },
  {
   "cell_type": "code",
   "execution_count": 10,
   "id": "2fa27125",
   "metadata": {
    "execution": {
     "iopub.execute_input": "2023-01-14T10:51:15.236278Z",
     "iopub.status.busy": "2023-01-14T10:51:15.235251Z",
     "iopub.status.idle": "2023-01-14T10:51:15.285980Z",
     "shell.execute_reply": "2023-01-14T10:51:15.285009Z"
    },
    "papermill": {
     "duration": 0.067068,
     "end_time": "2023-01-14T10:51:15.288327",
     "exception": false,
     "start_time": "2023-01-14T10:51:15.221259",
     "status": "completed"
    },
    "tags": []
   },
   "outputs": [
    {
     "data": {
      "text/html": [
       "<div>\n",
       "<style scoped>\n",
       "    .dataframe tbody tr th:only-of-type {\n",
       "        vertical-align: middle;\n",
       "    }\n",
       "\n",
       "    .dataframe tbody tr th {\n",
       "        vertical-align: top;\n",
       "    }\n",
       "\n",
       "    .dataframe thead th {\n",
       "        text-align: right;\n",
       "    }\n",
       "</style>\n",
       "<table border=\"1\" class=\"dataframe\">\n",
       "  <thead>\n",
       "    <tr style=\"text-align: right;\">\n",
       "      <th></th>\n",
       "      <th>count</th>\n",
       "      <th>mean</th>\n",
       "      <th>std</th>\n",
       "      <th>min</th>\n",
       "      <th>25%</th>\n",
       "      <th>50%</th>\n",
       "      <th>75%</th>\n",
       "      <th>max</th>\n",
       "    </tr>\n",
       "  </thead>\n",
       "  <tbody>\n",
       "    <tr>\n",
       "      <th>price</th>\n",
       "      <td>4600.0</td>\n",
       "      <td>551962.988473</td>\n",
       "      <td>563834.702547</td>\n",
       "      <td>0.0</td>\n",
       "      <td>322875.00</td>\n",
       "      <td>460943.461539</td>\n",
       "      <td>654962.50</td>\n",
       "      <td>26590000.0</td>\n",
       "    </tr>\n",
       "    <tr>\n",
       "      <th>bedrooms</th>\n",
       "      <td>4600.0</td>\n",
       "      <td>3.400870</td>\n",
       "      <td>0.908848</td>\n",
       "      <td>0.0</td>\n",
       "      <td>3.00</td>\n",
       "      <td>3.000000</td>\n",
       "      <td>4.00</td>\n",
       "      <td>9.0</td>\n",
       "    </tr>\n",
       "    <tr>\n",
       "      <th>bathrooms</th>\n",
       "      <td>4600.0</td>\n",
       "      <td>2.160815</td>\n",
       "      <td>0.783781</td>\n",
       "      <td>0.0</td>\n",
       "      <td>1.75</td>\n",
       "      <td>2.250000</td>\n",
       "      <td>2.50</td>\n",
       "      <td>8.0</td>\n",
       "    </tr>\n",
       "    <tr>\n",
       "      <th>sqft_living</th>\n",
       "      <td>4600.0</td>\n",
       "      <td>2139.346957</td>\n",
       "      <td>963.206916</td>\n",
       "      <td>370.0</td>\n",
       "      <td>1460.00</td>\n",
       "      <td>1980.000000</td>\n",
       "      <td>2620.00</td>\n",
       "      <td>13540.0</td>\n",
       "    </tr>\n",
       "    <tr>\n",
       "      <th>sqft_lot</th>\n",
       "      <td>4600.0</td>\n",
       "      <td>14852.516087</td>\n",
       "      <td>35884.436145</td>\n",
       "      <td>638.0</td>\n",
       "      <td>5000.75</td>\n",
       "      <td>7683.000000</td>\n",
       "      <td>11001.25</td>\n",
       "      <td>1074218.0</td>\n",
       "    </tr>\n",
       "    <tr>\n",
       "      <th>floors</th>\n",
       "      <td>4600.0</td>\n",
       "      <td>1.512065</td>\n",
       "      <td>0.538288</td>\n",
       "      <td>1.0</td>\n",
       "      <td>1.00</td>\n",
       "      <td>1.500000</td>\n",
       "      <td>2.00</td>\n",
       "      <td>3.5</td>\n",
       "    </tr>\n",
       "    <tr>\n",
       "      <th>condition</th>\n",
       "      <td>4600.0</td>\n",
       "      <td>3.451739</td>\n",
       "      <td>0.677230</td>\n",
       "      <td>1.0</td>\n",
       "      <td>3.00</td>\n",
       "      <td>3.000000</td>\n",
       "      <td>4.00</td>\n",
       "      <td>5.0</td>\n",
       "    </tr>\n",
       "    <tr>\n",
       "      <th>sqft_above</th>\n",
       "      <td>4600.0</td>\n",
       "      <td>1827.265435</td>\n",
       "      <td>862.168977</td>\n",
       "      <td>370.0</td>\n",
       "      <td>1190.00</td>\n",
       "      <td>1590.000000</td>\n",
       "      <td>2300.00</td>\n",
       "      <td>9410.0</td>\n",
       "    </tr>\n",
       "    <tr>\n",
       "      <th>sqft_basement</th>\n",
       "      <td>4600.0</td>\n",
       "      <td>312.081522</td>\n",
       "      <td>464.137228</td>\n",
       "      <td>0.0</td>\n",
       "      <td>0.00</td>\n",
       "      <td>0.000000</td>\n",
       "      <td>610.00</td>\n",
       "      <td>4820.0</td>\n",
       "    </tr>\n",
       "    <tr>\n",
       "      <th>yr_built</th>\n",
       "      <td>4600.0</td>\n",
       "      <td>1970.786304</td>\n",
       "      <td>29.731848</td>\n",
       "      <td>1900.0</td>\n",
       "      <td>1951.00</td>\n",
       "      <td>1976.000000</td>\n",
       "      <td>1997.00</td>\n",
       "      <td>2014.0</td>\n",
       "    </tr>\n",
       "    <tr>\n",
       "      <th>yr_renovated</th>\n",
       "      <td>4600.0</td>\n",
       "      <td>808.608261</td>\n",
       "      <td>979.414536</td>\n",
       "      <td>0.0</td>\n",
       "      <td>0.00</td>\n",
       "      <td>0.000000</td>\n",
       "      <td>1999.00</td>\n",
       "      <td>2014.0</td>\n",
       "    </tr>\n",
       "  </tbody>\n",
       "</table>\n",
       "</div>"
      ],
      "text/plain": [
       "                count           mean            std     min        25%  \\\n",
       "price          4600.0  551962.988473  563834.702547     0.0  322875.00   \n",
       "bedrooms       4600.0       3.400870       0.908848     0.0       3.00   \n",
       "bathrooms      4600.0       2.160815       0.783781     0.0       1.75   \n",
       "sqft_living    4600.0    2139.346957     963.206916   370.0    1460.00   \n",
       "sqft_lot       4600.0   14852.516087   35884.436145   638.0    5000.75   \n",
       "floors         4600.0       1.512065       0.538288     1.0       1.00   \n",
       "condition      4600.0       3.451739       0.677230     1.0       3.00   \n",
       "sqft_above     4600.0    1827.265435     862.168977   370.0    1190.00   \n",
       "sqft_basement  4600.0     312.081522     464.137228     0.0       0.00   \n",
       "yr_built       4600.0    1970.786304      29.731848  1900.0    1951.00   \n",
       "yr_renovated   4600.0     808.608261     979.414536     0.0       0.00   \n",
       "\n",
       "                         50%        75%         max  \n",
       "price          460943.461539  654962.50  26590000.0  \n",
       "bedrooms            3.000000       4.00         9.0  \n",
       "bathrooms           2.250000       2.50         8.0  \n",
       "sqft_living      1980.000000    2620.00     13540.0  \n",
       "sqft_lot         7683.000000   11001.25   1074218.0  \n",
       "floors              1.500000       2.00         3.5  \n",
       "condition           3.000000       4.00         5.0  \n",
       "sqft_above       1590.000000    2300.00      9410.0  \n",
       "sqft_basement       0.000000     610.00      4820.0  \n",
       "yr_built         1976.000000    1997.00      2014.0  \n",
       "yr_renovated        0.000000    1999.00      2014.0  "
      ]
     },
     "execution_count": 10,
     "metadata": {},
     "output_type": "execute_result"
    }
   ],
   "source": [
    "df1.describe().T"
   ]
  },
  {
   "cell_type": "code",
   "execution_count": 11,
   "id": "f77d0e8f",
   "metadata": {
    "execution": {
     "iopub.execute_input": "2023-01-14T10:51:15.317158Z",
     "iopub.status.busy": "2023-01-14T10:51:15.316423Z",
     "iopub.status.idle": "2023-01-14T10:51:17.590001Z",
     "shell.execute_reply": "2023-01-14T10:51:17.588656Z"
    },
    "papermill": {
     "duration": 2.291018,
     "end_time": "2023-01-14T10:51:17.592867",
     "exception": false,
     "start_time": "2023-01-14T10:51:15.301849",
     "status": "completed"
    },
    "tags": []
   },
   "outputs": [
    {
     "data": {
      "application/javascript": [
       "\n",
       "        if (window._pyforest_update_imports_cell) { window._pyforest_update_imports_cell('import pandas as pd\\nimport seaborn as sns'); }\n",
       "    "
      ],
      "text/plain": [
       "<IPython.core.display.Javascript object>"
      ]
     },
     "metadata": {},
     "output_type": "display_data"
    },
    {
     "name": "stderr",
     "output_type": "stream",
     "text": [
      "/opt/conda/lib/python3.7/site-packages/seaborn/_decorators.py:43: FutureWarning: Pass the following variable as a keyword arg: x. From version 0.12, the only valid positional argument will be `data`, and passing other arguments without an explicit keyword will result in an error or misinterpretation.\n",
      "  FutureWarning\n"
     ]
    },
    {
     "data": {
      "image/png": "[encoded data removed]",
      "text/plain": [
       "<Figure size 432x288 with 1 Axes>"
      ]
     },
     "metadata": {
      "needs_background": "light"
     },
     "output_type": "display_data"
    },
    {
     "data": {
      "application/javascript": [
       "\n",
       "        if (window._pyforest_update_imports_cell) { window._pyforest_update_imports_cell('import pandas as pd\\nimport seaborn as sns'); }\n",
       "    "
      ],
      "text/plain": [
       "<IPython.core.display.Javascript object>"
      ]
     },
     "metadata": {},
     "output_type": "display_data"
    },
    {
     "name": "stderr",
     "output_type": "stream",
     "text": [
      "/opt/conda/lib/python3.7/site-packages/seaborn/_decorators.py:43: FutureWarning: Pass the following variable as a keyword arg: x. From version 0.12, the only valid positional argument will be `data`, and passing other arguments without an explicit keyword will result in an error or misinterpretation.\n",
      "  FutureWarning\n"
     ]
    },
    {
     "data": {
      "image/png": "[encoded data removed]",
      "text/plain": [
       "<Figure size 432x288 with 1 Axes>"
      ]
     },
     "metadata": {
      "needs_background": "light"
     },
     "output_type": "display_data"
    },
    {
     "data": {
      "application/javascript": [
       "\n",
       "        if (window._pyforest_update_imports_cell) { window._pyforest_update_imports_cell('import pandas as pd\\nimport seaborn as sns'); }\n",
       "    "
      ],
      "text/plain": [
       "<IPython.core.display.Javascript object>"
      ]
     },
     "metadata": {},
     "output_type": "display_data"
    },
    {
     "name": "stderr",
     "output_type": "stream",
     "text": [
      "/opt/conda/lib/python3.7/site-packages/seaborn/_decorators.py:43: FutureWarning: Pass the following variable as a keyword arg: x. From version 0.12, the only valid positional argument will be `data`, and passing other arguments without an explicit keyword will result in an error or misinterpretation.\n",
      "  FutureWarning\n"
     ]
    },
    {
     "data": {
      "image/png": "[encoded data removed]",
      "text/plain": [
       "<Figure size 432x288 with 1 Axes>"
      ]
     },
     "metadata": {
      "needs_background": "light"
     },
     "output_type": "display_data"
    },
    {
     "data": {
      "application/javascript": [
       "\n",
       "        if (window._pyforest_update_imports_cell) { window._pyforest_update_imports_cell('import pandas as pd\\nimport seaborn as sns'); }\n",
       "    "
      ],
      "text/plain": [
       "<IPython.core.display.Javascript object>"
      ]
     },
     "metadata": {},
     "output_type": "display_data"
    },
    {
     "name": "stderr",
     "output_type": "stream",
     "text": [
      "/opt/conda/lib/python3.7/site-packages/seaborn/_decorators.py:43: FutureWarning: Pass the following variable as a keyword arg: x. From version 0.12, the only valid positional argument will be `data`, and passing other arguments without an explicit keyword will result in an error or misinterpretation.\n",
      "  FutureWarning\n"
     ]
    },
    {
     "data": {
      "image/png": "[encoded data removed]",
      "text/plain": [
       "<Figure size 432x288 with 1 Axes>"
      ]
     },
     "metadata": {
      "needs_background": "light"
     },
     "output_type": "display_data"
    },
    {
     "data": {
      "application/javascript": [
       "\n",
       "        if (window._pyforest_update_imports_cell) { window._pyforest_update_imports_cell('import pandas as pd\\nimport seaborn as sns'); }\n",
       "    "
      ],
      "text/plain": [
       "<IPython.core.display.Javascript object>"
      ]
     },
     "metadata": {},
     "output_type": "display_data"
    },
    {
     "name": "stderr",
     "output_type": "stream",
     "text": [
      "/opt/conda/lib/python3.7/site-packages/seaborn/_decorators.py:43: FutureWarning: Pass the following variable as a keyword arg: x. From version 0.12, the only valid positional argument will be `data`, and passing other arguments without an explicit keyword will result in an error or misinterpretation.\n",
      "  FutureWarning\n"
     ]
    },
    {
     "data": {
      "image/png": "[encoded data removed]",
      "text/plain": [
       "<Figure size 432x288 with 1 Axes>"
      ]
     },
     "metadata": {
      "needs_background": "light"
     },
     "output_type": "display_data"
    },
    {
     "data": {
      "application/javascript": [
       "\n",
       "        if (window._pyforest_update_imports_cell) { window._pyforest_update_imports_cell('import pandas as pd\\nimport seaborn as sns'); }\n",
       "    "
      ],
      "text/plain": [
       "<IPython.core.display.Javascript object>"
      ]
     },
     "metadata": {},
     "output_type": "display_data"
    },
    {
     "name": "stderr",
     "output_type": "stream",
     "text": [
      "/opt/conda/lib/python3.7/site-packages/seaborn/_decorators.py:43: FutureWarning: Pass the following variable as a keyword arg: x. From version 0.12, the only valid positional argument will be `data`, and passing other arguments without an explicit keyword will result in an error or misinterpretation.\n",
      "  FutureWarning\n"
     ]
    },
    {
     "data": {
      "image/png": "[encoded data removed]",
      "text/plain": [
       "<Figure size 432x288 with 1 Axes>"
      ]
     },
     "metadata": {
      "needs_background": "light"
     },
     "output_type": "display_data"
    },
    {
     "data": {
      "application/javascript": [
       "\n",
       "        if (window._pyforest_update_imports_cell) { window._pyforest_update_imports_cell('import pandas as pd\\nimport seaborn as sns'); }\n",
       "    "
      ],
      "text/plain": [
       "<IPython.core.display.Javascript object>"
      ]
     },
     "metadata": {},
     "output_type": "display_data"
    },
    {
     "name": "stderr",
     "output_type": "stream",
     "text": [
      "/opt/conda/lib/python3.7/site-packages/seaborn/_decorators.py:43: FutureWarning: Pass the following variable as a keyword arg: x. From version 0.12, the only valid positional argument will be `data`, and passing other arguments without an explicit keyword will result in an error or misinterpretation.\n",
      "  FutureWarning\n"
     ]
    },
    {
     "data": {
      "image/png": "[encoded data removed]",
      "text/plain": [
       "<Figure size 432x288 with 1 Axes>"
      ]
     },
     "metadata": {
      "needs_background": "light"
     },
     "output_type": "display_data"
    },
    {
     "data": {
      "application/javascript": [
       "\n",
       "        if (window._pyforest_update_imports_cell) { window._pyforest_update_imports_cell('import pandas as pd\\nimport seaborn as sns'); }\n",
       "    "
      ],
      "text/plain": [
       "<IPython.core.display.Javascript object>"
      ]
     },
     "metadata": {},
     "output_type": "display_data"
    },
    {
     "name": "stderr",
     "output_type": "stream",
     "text": [
      "/opt/conda/lib/python3.7/site-packages/seaborn/_decorators.py:43: FutureWarning: Pass the following variable as a keyword arg: x. From version 0.12, the only valid positional argument will be `data`, and passing other arguments without an explicit keyword will result in an error or misinterpretation.\n",
      "  FutureWarning\n"
     ]
    },
    {
     "data": {
      "image/png": "[encoded data removed]",
      "text/plain": [
       "<Figure size 432x288 with 1 Axes>"
      ]
     },
     "metadata": {
      "needs_background": "light"
     },
     "output_type": "display_data"
    },
    {
     "data": {
      "application/javascript": [
       "\n",
       "        if (window._pyforest_update_imports_cell) { window._pyforest_update_imports_cell('import pandas as pd\\nimport seaborn as sns'); }\n",
       "    "
      ],
      "text/plain": [
       "<IPython.core.display.Javascript object>"
      ]
     },
     "metadata": {},
     "output_type": "display_data"
    },
    {
     "name": "stderr",
     "output_type": "stream",
     "text": [
      "/opt/conda/lib/python3.7/site-packages/seaborn/_decorators.py:43: FutureWarning: Pass the following variable as a keyword arg: x. From version 0.12, the only valid positional argument will be `data`, and passing other arguments without an explicit keyword will result in an error or misinterpretation.\n",
      "  FutureWarning\n"
     ]
    },
    {
     "data": {
      "image/png": "[encoded data removed]",
      "text/plain": [
       "<Figure size 432x288 with 1 Axes>"
      ]
     },
     "metadata": {
      "needs_background": "light"
     },
     "output_type": "display_data"
    },
    {
     "data": {
      "application/javascript": [
       "\n",
       "        if (window._pyforest_update_imports_cell) { window._pyforest_update_imports_cell('import pandas as pd\\nimport seaborn as sns'); }\n",
       "    "
      ],
      "text/plain": [
       "<IPython.core.display.Javascript object>"
      ]
     },
     "metadata": {},
     "output_type": "display_data"
    },
    {
     "name": "stderr",
     "output_type": "stream",
     "text": [
      "/opt/conda/lib/python3.7/site-packages/seaborn/_decorators.py:43: FutureWarning: Pass the following variable as a keyword arg: x. From version 0.12, the only valid positional argument will be `data`, and passing other arguments without an explicit keyword will result in an error or misinterpretation.\n",
      "  FutureWarning\n"
     ]
    },
    {
     "data": {
      "image/png": "[encoded data removed]",
      "text/plain": [
       "<Figure size 432x288 with 1 Axes>"
      ]
     },
     "metadata": {
      "needs_background": "light"
     },
     "output_type": "display_data"
    },
    {
     "data": {
      "application/javascript": [
       "\n",
       "        if (window._pyforest_update_imports_cell) { window._pyforest_update_imports_cell('import pandas as pd\\nimport seaborn as sns'); }\n",
       "    "
      ],
      "text/plain": [
       "<IPython.core.display.Javascript object>"
      ]
     },
     "metadata": {},
     "output_type": "display_data"
    },
    {
     "name": "stderr",
     "output_type": "stream",
     "text": [
      "/opt/conda/lib/python3.7/site-packages/seaborn/_decorators.py:43: FutureWarning: Pass the following variable as a keyword arg: x. From version 0.12, the only valid positional argument will be `data`, and passing other arguments without an explicit keyword will result in an error or misinterpretation.\n",
      "  FutureWarning\n"
     ]
    },
    {
     "data": {
      "image/png": "[encoded data removed]",
      "text/plain": [
       "<Figure size 432x288 with 1 Axes>"
      ]
     },
     "metadata": {
      "needs_background": "light"
     },
     "output_type": "display_data"
    }
   ],
   "source": [
    "cols = ['bedrooms','bathrooms', 'sqft_living', 'sqft_lot', 'floors','condition',\n",
    "        'sqft_above', 'sqft_basement','yr_built', 'yr_renovated','price' ]\n",
    "for i in cols:\n",
    "    sns.boxplot(df[i],whis=1.5)\n",
    "    plt.show();"
   ]
  },
  {
   "cell_type": "markdown",
   "id": "4bc94f00",
   "metadata": {
    "papermill": {
     "duration": 0.01663,
     "end_time": "2023-01-14T10:51:17.626812",
     "exception": false,
     "start_time": "2023-01-14T10:51:17.610182",
     "status": "completed"
    },
    "tags": []
   },
   "source": [
    "### Removing Outliers"
   ]
  },
  {
   "cell_type": "code",
   "execution_count": 12,
   "id": "b27d62a0",
   "metadata": {
    "execution": {
     "iopub.execute_input": "2023-01-14T10:51:17.662732Z",
     "iopub.status.busy": "2023-01-14T10:51:17.662286Z",
     "iopub.status.idle": "2023-01-14T10:51:17.669122Z",
     "shell.execute_reply": "2023-01-14T10:51:17.667788Z"
    },
    "papermill": {
     "duration": 0.027365,
     "end_time": "2023-01-14T10:51:17.671532",
     "exception": false,
     "start_time": "2023-01-14T10:51:17.644167",
     "status": "completed"
    },
    "tags": []
   },
   "outputs": [],
   "source": [
    "def remove_outlier(col):\n",
    "    sorted(col)\n",
    "    Q1,Q3=np.percentile(col,[25,75])\n",
    "    IQR=Q3-Q1\n",
    "    lower_range= Q1-(1.5 * IQR)\n",
    "    upper_range= Q3+(1.5 * IQR)\n",
    "    return lower_range, upper_range"
   ]
  },
  {
   "cell_type": "code",
   "execution_count": 13,
   "id": "7f34ff09",
   "metadata": {
    "execution": {
     "iopub.execute_input": "2023-01-14T10:51:17.710629Z",
     "iopub.status.busy": "2023-01-14T10:51:17.710164Z",
     "iopub.status.idle": "2023-01-14T10:51:17.836780Z",
     "shell.execute_reply": "2023-01-14T10:51:17.835711Z"
    },
    "papermill": {
     "duration": 0.148206,
     "end_time": "2023-01-14T10:51:17.839116",
     "exception": false,
     "start_time": "2023-01-14T10:51:17.690910",
     "status": "completed"
    },
    "tags": []
   },
   "outputs": [
    {
     "data": {
      "application/javascript": [
       "\n",
       "        if (window._pyforest_update_imports_cell) { window._pyforest_update_imports_cell('import numpy as np\\nimport pandas as pd\\nimport seaborn as sns'); }\n",
       "    "
      ],
      "text/plain": [
       "<IPython.core.display.Javascript object>"
      ]
     },
     "metadata": {},
     "output_type": "display_data"
    },
    {
     "data": {
      "application/javascript": [
       "\n",
       "        if (window._pyforest_update_imports_cell) { window._pyforest_update_imports_cell('import numpy as np\\nimport pandas as pd\\nimport seaborn as sns'); }\n",
       "    "
      ],
      "text/plain": [
       "<IPython.core.display.Javascript object>"
      ]
     },
     "metadata": {},
     "output_type": "display_data"
    },
    {
     "data": {
      "application/javascript": [
       "\n",
       "        if (window._pyforest_update_imports_cell) { window._pyforest_update_imports_cell('import numpy as np\\nimport pandas as pd\\nimport seaborn as sns'); }\n",
       "    "
      ],
      "text/plain": [
       "<IPython.core.display.Javascript object>"
      ]
     },
     "metadata": {},
     "output_type": "display_data"
    },
    {
     "data": {
      "application/javascript": [
       "\n",
       "        if (window._pyforest_update_imports_cell) { window._pyforest_update_imports_cell('import numpy as np\\nimport pandas as pd\\nimport seaborn as sns'); }\n",
       "    "
      ],
      "text/plain": [
       "<IPython.core.display.Javascript object>"
      ]
     },
     "metadata": {},
     "output_type": "display_data"
    },
    {
     "data": {
      "application/javascript": [
       "\n",
       "        if (window._pyforest_update_imports_cell) { window._pyforest_update_imports_cell('import numpy as np\\nimport pandas as pd\\nimport seaborn as sns'); }\n",
       "    "
      ],
      "text/plain": [
       "<IPython.core.display.Javascript object>"
      ]
     },
     "metadata": {},
     "output_type": "display_data"
    },
    {
     "data": {
      "application/javascript": [
       "\n",
       "        if (window._pyforest_update_imports_cell) { window._pyforest_update_imports_cell('import numpy as np\\nimport pandas as pd\\nimport seaborn as sns'); }\n",
       "    "
      ],
      "text/plain": [
       "<IPython.core.display.Javascript object>"
      ]
     },
     "metadata": {},
     "output_type": "display_data"
    },
    {
     "data": {
      "application/javascript": [
       "\n",
       "        if (window._pyforest_update_imports_cell) { window._pyforest_update_imports_cell('import numpy as np\\nimport pandas as pd\\nimport seaborn as sns'); }\n",
       "    "
      ],
      "text/plain": [
       "<IPython.core.display.Javascript object>"
      ]
     },
     "metadata": {},
     "output_type": "display_data"
    },
    {
     "data": {
      "application/javascript": [
       "\n",
       "        if (window._pyforest_update_imports_cell) { window._pyforest_update_imports_cell('import numpy as np\\nimport pandas as pd\\nimport seaborn as sns'); }\n",
       "    "
      ],
      "text/plain": [
       "<IPython.core.display.Javascript object>"
      ]
     },
     "metadata": {},
     "output_type": "display_data"
    },
    {
     "data": {
      "application/javascript": [
       "\n",
       "        if (window._pyforest_update_imports_cell) { window._pyforest_update_imports_cell('import numpy as np\\nimport pandas as pd\\nimport seaborn as sns'); }\n",
       "    "
      ],
      "text/plain": [
       "<IPython.core.display.Javascript object>"
      ]
     },
     "metadata": {},
     "output_type": "display_data"
    },
    {
     "data": {
      "application/javascript": [
       "\n",
       "        if (window._pyforest_update_imports_cell) { window._pyforest_update_imports_cell('import numpy as np\\nimport pandas as pd\\nimport seaborn as sns'); }\n",
       "    "
      ],
      "text/plain": [
       "<IPython.core.display.Javascript object>"
      ]
     },
     "metadata": {},
     "output_type": "display_data"
    },
    {
     "data": {
      "application/javascript": [
       "\n",
       "        if (window._pyforest_update_imports_cell) { window._pyforest_update_imports_cell('import numpy as np\\nimport pandas as pd\\nimport seaborn as sns'); }\n",
       "    "
      ],
      "text/plain": [
       "<IPython.core.display.Javascript object>"
      ]
     },
     "metadata": {},
     "output_type": "display_data"
    },
    {
     "data": {
      "application/javascript": [
       "\n",
       "        if (window._pyforest_update_imports_cell) { window._pyforest_update_imports_cell('import numpy as np\\nimport pandas as pd\\nimport seaborn as sns'); }\n",
       "    "
      ],
      "text/plain": [
       "<IPython.core.display.Javascript object>"
      ]
     },
     "metadata": {},
     "output_type": "display_data"
    },
    {
     "data": {
      "application/javascript": [
       "\n",
       "        if (window._pyforest_update_imports_cell) { window._pyforest_update_imports_cell('import numpy as np\\nimport pandas as pd\\nimport seaborn as sns'); }\n",
       "    "
      ],
      "text/plain": [
       "<IPython.core.display.Javascript object>"
      ]
     },
     "metadata": {},
     "output_type": "display_data"
    },
    {
     "data": {
      "application/javascript": [
       "\n",
       "        if (window._pyforest_update_imports_cell) { window._pyforest_update_imports_cell('import numpy as np\\nimport pandas as pd\\nimport seaborn as sns'); }\n",
       "    "
      ],
      "text/plain": [
       "<IPython.core.display.Javascript object>"
      ]
     },
     "metadata": {},
     "output_type": "display_data"
    },
    {
     "data": {
      "application/javascript": [
       "\n",
       "        if (window._pyforest_update_imports_cell) { window._pyforest_update_imports_cell('import numpy as np\\nimport pandas as pd\\nimport seaborn as sns'); }\n",
       "    "
      ],
      "text/plain": [
       "<IPython.core.display.Javascript object>"
      ]
     },
     "metadata": {},
     "output_type": "display_data"
    },
    {
     "data": {
      "application/javascript": [
       "\n",
       "        if (window._pyforest_update_imports_cell) { window._pyforest_update_imports_cell('import numpy as np\\nimport pandas as pd\\nimport seaborn as sns'); }\n",
       "    "
      ],
      "text/plain": [
       "<IPython.core.display.Javascript object>"
      ]
     },
     "metadata": {},
     "output_type": "display_data"
    },
    {
     "data": {
      "application/javascript": [
       "\n",
       "        if (window._pyforest_update_imports_cell) { window._pyforest_update_imports_cell('import numpy as np\\nimport pandas as pd\\nimport seaborn as sns'); }\n",
       "    "
      ],
      "text/plain": [
       "<IPython.core.display.Javascript object>"
      ]
     },
     "metadata": {},
     "output_type": "display_data"
    },
    {
     "data": {
      "application/javascript": [
       "\n",
       "        if (window._pyforest_update_imports_cell) { window._pyforest_update_imports_cell('import numpy as np\\nimport pandas as pd\\nimport seaborn as sns'); }\n",
       "    "
      ],
      "text/plain": [
       "<IPython.core.display.Javascript object>"
      ]
     },
     "metadata": {},
     "output_type": "display_data"
    },
    {
     "data": {
      "application/javascript": [
       "\n",
       "        if (window._pyforest_update_imports_cell) { window._pyforest_update_imports_cell('import numpy as np\\nimport pandas as pd\\nimport seaborn as sns'); }\n",
       "    "
      ],
      "text/plain": [
       "<IPython.core.display.Javascript object>"
      ]
     },
     "metadata": {},
     "output_type": "display_data"
    },
    {
     "data": {
      "application/javascript": [
       "\n",
       "        if (window._pyforest_update_imports_cell) { window._pyforest_update_imports_cell('import numpy as np\\nimport pandas as pd\\nimport seaborn as sns'); }\n",
       "    "
      ],
      "text/plain": [
       "<IPython.core.display.Javascript object>"
      ]
     },
     "metadata": {},
     "output_type": "display_data"
    },
    {
     "data": {
      "application/javascript": [
       "\n",
       "        if (window._pyforest_update_imports_cell) { window._pyforest_update_imports_cell('import numpy as np\\nimport pandas as pd\\nimport seaborn as sns'); }\n",
       "    "
      ],
      "text/plain": [
       "<IPython.core.display.Javascript object>"
      ]
     },
     "metadata": {},
     "output_type": "display_data"
    },
    {
     "data": {
      "application/javascript": [
       "\n",
       "        if (window._pyforest_update_imports_cell) { window._pyforest_update_imports_cell('import numpy as np\\nimport pandas as pd\\nimport seaborn as sns'); }\n",
       "    "
      ],
      "text/plain": [
       "<IPython.core.display.Javascript object>"
      ]
     },
     "metadata": {},
     "output_type": "display_data"
    },
    {
     "data": {
      "application/javascript": [
       "\n",
       "        if (window._pyforest_update_imports_cell) { window._pyforest_update_imports_cell('import numpy as np\\nimport pandas as pd\\nimport seaborn as sns'); }\n",
       "    "
      ],
      "text/plain": [
       "<IPython.core.display.Javascript object>"
      ]
     },
     "metadata": {},
     "output_type": "display_data"
    },
    {
     "data": {
      "application/javascript": [
       "\n",
       "        if (window._pyforest_update_imports_cell) { window._pyforest_update_imports_cell('import numpy as np\\nimport pandas as pd\\nimport seaborn as sns'); }\n",
       "    "
      ],
      "text/plain": [
       "<IPython.core.display.Javascript object>"
      ]
     },
     "metadata": {},
     "output_type": "display_data"
    },
    {
     "data": {
      "application/javascript": [
       "\n",
       "        if (window._pyforest_update_imports_cell) { window._pyforest_update_imports_cell('import numpy as np\\nimport pandas as pd\\nimport seaborn as sns'); }\n",
       "    "
      ],
      "text/plain": [
       "<IPython.core.display.Javascript object>"
      ]
     },
     "metadata": {},
     "output_type": "display_data"
    },
    {
     "data": {
      "application/javascript": [
       "\n",
       "        if (window._pyforest_update_imports_cell) { window._pyforest_update_imports_cell('import numpy as np\\nimport pandas as pd\\nimport seaborn as sns'); }\n",
       "    "
      ],
      "text/plain": [
       "<IPython.core.display.Javascript object>"
      ]
     },
     "metadata": {},
     "output_type": "display_data"
    },
    {
     "data": {
      "application/javascript": [
       "\n",
       "        if (window._pyforest_update_imports_cell) { window._pyforest_update_imports_cell('import numpy as np\\nimport pandas as pd\\nimport seaborn as sns'); }\n",
       "    "
      ],
      "text/plain": [
       "<IPython.core.display.Javascript object>"
      ]
     },
     "metadata": {},
     "output_type": "display_data"
    },
    {
     "data": {
      "application/javascript": [
       "\n",
       "        if (window._pyforest_update_imports_cell) { window._pyforest_update_imports_cell('import numpy as np\\nimport pandas as pd\\nimport seaborn as sns'); }\n",
       "    "
      ],
      "text/plain": [
       "<IPython.core.display.Javascript object>"
      ]
     },
     "metadata": {},
     "output_type": "display_data"
    },
    {
     "data": {
      "application/javascript": [
       "\n",
       "        if (window._pyforest_update_imports_cell) { window._pyforest_update_imports_cell('import numpy as np\\nimport pandas as pd\\nimport seaborn as sns'); }\n",
       "    "
      ],
      "text/plain": [
       "<IPython.core.display.Javascript object>"
      ]
     },
     "metadata": {},
     "output_type": "display_data"
    },
    {
     "data": {
      "application/javascript": [
       "\n",
       "        if (window._pyforest_update_imports_cell) { window._pyforest_update_imports_cell('import numpy as np\\nimport pandas as pd\\nimport seaborn as sns'); }\n",
       "    "
      ],
      "text/plain": [
       "<IPython.core.display.Javascript object>"
      ]
     },
     "metadata": {},
     "output_type": "display_data"
    },
    {
     "data": {
      "application/javascript": [
       "\n",
       "        if (window._pyforest_update_imports_cell) { window._pyforest_update_imports_cell('import numpy as np\\nimport pandas as pd\\nimport seaborn as sns'); }\n",
       "    "
      ],
      "text/plain": [
       "<IPython.core.display.Javascript object>"
      ]
     },
     "metadata": {},
     "output_type": "display_data"
    },
    {
     "data": {
      "application/javascript": [
       "\n",
       "        if (window._pyforest_update_imports_cell) { window._pyforest_update_imports_cell('import numpy as np\\nimport pandas as pd\\nimport seaborn as sns'); }\n",
       "    "
      ],
      "text/plain": [
       "<IPython.core.display.Javascript object>"
      ]
     },
     "metadata": {},
     "output_type": "display_data"
    },
    {
     "data": {
      "application/javascript": [
       "\n",
       "        if (window._pyforest_update_imports_cell) { window._pyforest_update_imports_cell('import numpy as np\\nimport pandas as pd\\nimport seaborn as sns'); }\n",
       "    "
      ],
      "text/plain": [
       "<IPython.core.display.Javascript object>"
      ]
     },
     "metadata": {},
     "output_type": "display_data"
    }
   ],
   "source": [
    "for column in df[cols].columns:\n",
    "    lr,ur=remove_outlier(df[column])\n",
    "    df[column]=np.where(df[column]>ur,ur,df[column])\n",
    "    df[column]=np.where(df[column]<lr,lr,df[column])"
   ]
  },
  {
   "cell_type": "code",
   "execution_count": 14,
   "id": "1a3d2679",
   "metadata": {
    "execution": {
     "iopub.execute_input": "2023-01-14T10:51:17.884459Z",
     "iopub.status.busy": "2023-01-14T10:51:17.883041Z",
     "iopub.status.idle": "2023-01-14T10:51:19.887463Z",
     "shell.execute_reply": "2023-01-14T10:51:19.886354Z"
    },
    "papermill": {
     "duration": 2.029988,
     "end_time": "2023-01-14T10:51:19.890087",
     "exception": false,
     "start_time": "2023-01-14T10:51:17.860099",
     "status": "completed"
    },
    "tags": []
   },
   "outputs": [
    {
     "data": {
      "application/javascript": [
       "\n",
       "        if (window._pyforest_update_imports_cell) { window._pyforest_update_imports_cell('import numpy as np\\nimport pandas as pd\\nimport seaborn as sns'); }\n",
       "    "
      ],
      "text/plain": [
       "<IPython.core.display.Javascript object>"
      ]
     },
     "metadata": {},
     "output_type": "display_data"
    },
    {
     "name": "stderr",
     "output_type": "stream",
     "text": [
      "/opt/conda/lib/python3.7/site-packages/seaborn/_decorators.py:43: FutureWarning: Pass the following variable as a keyword arg: x. From version 0.12, the only valid positional argument will be `data`, and passing other arguments without an explicit keyword will result in an error or misinterpretation.\n",
      "  FutureWarning\n"
     ]
    },
    {
     "data": {
      "image/png": "[encoded data removed]",
      "text/plain": [
       "<Figure size 432x288 with 1 Axes>"
      ]
     },
     "metadata": {
      "needs_background": "light"
     },
     "output_type": "display_data"
    },
    {
     "data": {
      "application/javascript": [
       "\n",
       "        if (window._pyforest_update_imports_cell) { window._pyforest_update_imports_cell('import numpy as np\\nimport pandas as pd\\nimport seaborn as sns'); }\n",
       "    "
      ],
      "text/plain": [
       "<IPython.core.display.Javascript object>"
      ]
     },
     "metadata": {},
     "output_type": "display_data"
    },
    {
     "name": "stderr",
     "output_type": "stream",
     "text": [
      "/opt/conda/lib/python3.7/site-packages/seaborn/_decorators.py:43: FutureWarning: Pass the following variable as a keyword arg: x. From version 0.12, the only valid positional argument will be `data`, and passing other arguments without an explicit keyword will result in an error or misinterpretation.\n",
      "  FutureWarning\n"
     ]
    },
    {
     "data": {
      "image/png": "[encoded data removed]",
      "text/plain": [
       "<Figure size 432x288 with 1 Axes>"
      ]
     },
     "metadata": {
      "needs_background": "light"
     },
     "output_type": "display_data"
    },
    {
     "data": {
      "application/javascript": [
       "\n",
       "        if (window._pyforest_update_imports_cell) { window._pyforest_update_imports_cell('import numpy as np\\nimport pandas as pd\\nimport seaborn as sns'); }\n",
       "    "
      ],
      "text/plain": [
       "<IPython.core.display.Javascript object>"
      ]
     },
     "metadata": {},
     "output_type": "display_data"
    },
    {
     "name": "stderr",
     "output_type": "stream",
     "text": [
      "/opt/conda/lib/python3.7/site-packages/seaborn/_decorators.py:43: FutureWarning: Pass the following variable as a keyword arg: x. From version 0.12, the only valid positional argument will be `data`, and passing other arguments without an explicit keyword will result in an error or misinterpretation.\n",
      "  FutureWarning\n"
     ]
    },
    {
     "data": {
      "image/png": "[encoded data removed]",
      "text/plain": [
       "<Figure size 432x288 with 1 Axes>"
      ]
     },
     "metadata": {
      "needs_background": "light"
     },
     "output_type": "display_data"
    },
    {
     "data": {
      "application/javascript": [
       "\n",
       "        if (window._pyforest_update_imports_cell) { window._pyforest_update_imports_cell('import numpy as np\\nimport pandas as pd\\nimport seaborn as sns'); }\n",
       "    "
      ],
      "text/plain": [
       "<IPython.core.display.Javascript object>"
      ]
     },
     "metadata": {},
     "output_type": "display_data"
    },
    {
     "name": "stderr",
     "output_type": "stream",
     "text": [
      "/opt/conda/lib/python3.7/site-packages/seaborn/_decorators.py:43: FutureWarning: Pass the following variable as a keyword arg: x. From version 0.12, the only valid positional argument will be `data`, and passing other arguments without an explicit keyword will result in an error or misinterpretation.\n",
      "  FutureWarning\n"
     ]
    },
    {
     "data": {
      "image/png": "[encoded data removed]",
      "text/plain": [
       "<Figure size 432x288 with 1 Axes>"
      ]
     },
     "metadata": {
      "needs_background": "light"
     },
     "output_type": "display_data"
    },
    {
     "data": {
      "application/javascript": [
       "\n",
       "        if (window._pyforest_update_imports_cell) { window._pyforest_update_imports_cell('import numpy as np\\nimport pandas as pd\\nimport seaborn as sns'); }\n",
       "    "
      ],
      "text/plain": [
       "<IPython.core.display.Javascript object>"
      ]
     },
     "metadata": {},
     "output_type": "display_data"
    },
    {
     "name": "stderr",
     "output_type": "stream",
     "text": [
      "/opt/conda/lib/python3.7/site-packages/seaborn/_decorators.py:43: FutureWarning: Pass the following variable as a keyword arg: x. From version 0.12, the only valid positional argument will be `data`, and passing other arguments without an explicit keyword will result in an error or misinterpretation.\n",
      "  FutureWarning\n"
     ]
    },
    {
     "data": {
      "image/png": "[encoded data removed]",
      "text/plain": [
       "<Figure size 432x288 with 1 Axes>"
      ]
     },
     "metadata": {
      "needs_background": "light"
     },
     "output_type": "display_data"
    },
    {
     "data": {
      "application/javascript": [
       "\n",
       "        if (window._pyforest_update_imports_cell) { window._pyforest_update_imports_cell('import numpy as np\\nimport pandas as pd\\nimport seaborn as sns'); }\n",
       "    "
      ],
      "text/plain": [
       "<IPython.core.display.Javascript object>"
      ]
     },
     "metadata": {},
     "output_type": "display_data"
    },
    {
     "name": "stderr",
     "output_type": "stream",
     "text": [
      "/opt/conda/lib/python3.7/site-packages/seaborn/_decorators.py:43: FutureWarning: Pass the following variable as a keyword arg: x. From version 0.12, the only valid positional argument will be `data`, and passing other arguments without an explicit keyword will result in an error or misinterpretation.\n",
      "  FutureWarning\n"
     ]
    },
    {
     "data": {
      "image/png": "[encoded data removed]",
      "text/plain": [
       "<Figure size 432x288 with 1 Axes>"
      ]
     },
     "metadata": {
      "needs_background": "light"
     },
     "output_type": "display_data"
    },
    {
     "data": {
      "application/javascript": [
       "\n",
       "        if (window._pyforest_update_imports_cell) { window._pyforest_update_imports_cell('import numpy as np\\nimport pandas as pd\\nimport seaborn as sns'); }\n",
       "    "
      ],
      "text/plain": [
       "<IPython.core.display.Javascript object>"
      ]
     },
     "metadata": {},
     "output_type": "display_data"
    },
    {
     "name": "stderr",
     "output_type": "stream",
     "text": [
      "/opt/conda/lib/python3.7/site-packages/seaborn/_decorators.py:43: FutureWarning: Pass the following variable as a keyword arg: x. From version 0.12, the only valid positional argument will be `data`, and passing other arguments without an explicit keyword will result in an error or misinterpretation.\n",
      "  FutureWarning\n"
     ]
    },
    {
     "data": {
      "image/png": "[encoded data removed]",
      "text/plain": [
       "<Figure size 432x288 with 1 Axes>"
      ]
     },
     "metadata": {
      "needs_background": "light"
     },
     "output_type": "display_data"
    },
    {
     "data": {
      "application/javascript": [
       "\n",
       "        if (window._pyforest_update_imports_cell) { window._pyforest_update_imports_cell('import numpy as np\\nimport pandas as pd\\nimport seaborn as sns'); }\n",
       "    "
      ],
      "text/plain": [
       "<IPython.core.display.Javascript object>"
      ]
     },
     "metadata": {},
     "output_type": "display_data"
    },
    {
     "name": "stderr",
     "output_type": "stream",
     "text": [
      "/opt/conda/lib/python3.7/site-packages/seaborn/_decorators.py:43: FutureWarning: Pass the following variable as a keyword arg: x. From version 0.12, the only valid positional argument will be `data`, and passing other arguments without an explicit keyword will result in an error or misinterpretation.\n",
      "  FutureWarning\n"
     ]
    },
    {
     "data": {
      "image/png": "[encoded data removed]",
      "text/plain": [
       "<Figure size 432x288 with 1 Axes>"
      ]
     },
     "metadata": {
      "needs_background": "light"
     },
     "output_type": "display_data"
    },
    {
     "data": {
      "application/javascript": [
       "\n",
       "        if (window._pyforest_update_imports_cell) { window._pyforest_update_imports_cell('import numpy as np\\nimport pandas as pd\\nimport seaborn as sns'); }\n",
       "    "
      ],
      "text/plain": [
       "<IPython.core.display.Javascript object>"
      ]
     },
     "metadata": {},
     "output_type": "display_data"
    },
    {
     "name": "stderr",
     "output_type": "stream",
     "text": [
      "/opt/conda/lib/python3.7/site-packages/seaborn/_decorators.py:43: FutureWarning: Pass the following variable as a keyword arg: x. From version 0.12, the only valid positional argument will be `data`, and passing other arguments without an explicit keyword will result in an error or misinterpretation.\n",
      "  FutureWarning\n"
     ]
    },
    {
     "data": {
      "image/png": "[encoded data removed]",
      "text/plain": [
       "<Figure size 432x288 with 1 Axes>"
      ]
     },
     "metadata": {
      "needs_background": "light"
     },
     "output_type": "display_data"
    },
    {
     "data": {
      "application/javascript": [
       "\n",
       "        if (window._pyforest_update_imports_cell) { window._pyforest_update_imports_cell('import numpy as np\\nimport pandas as pd\\nimport seaborn as sns'); }\n",
       "    "
      ],
      "text/plain": [
       "<IPython.core.display.Javascript object>"
      ]
     },
     "metadata": {},
     "output_type": "display_data"
    },
    {
     "name": "stderr",
     "output_type": "stream",
     "text": [
      "/opt/conda/lib/python3.7/site-packages/seaborn/_decorators.py:43: FutureWarning: Pass the following variable as a keyword arg: x. From version 0.12, the only valid positional argument will be `data`, and passing other arguments without an explicit keyword will result in an error or misinterpretation.\n",
      "  FutureWarning\n"
     ]
    },
    {
     "data": {
      "image/png": "[encoded data removed]",
      "text/plain": [
       "<Figure size 432x288 with 1 Axes>"
      ]
     },
     "metadata": {
      "needs_background": "light"
     },
     "output_type": "display_data"
    },
    {
     "data": {
      "application/javascript": [
       "\n",
       "        if (window._pyforest_update_imports_cell) { window._pyforest_update_imports_cell('import numpy as np\\nimport pandas as pd\\nimport seaborn as sns'); }\n",
       "    "
      ],
      "text/plain": [
       "<IPython.core.display.Javascript object>"
      ]
     },
     "metadata": {},
     "output_type": "display_data"
    },
    {
     "name": "stderr",
     "output_type": "stream",
     "text": [
      "/opt/conda/lib/python3.7/site-packages/seaborn/_decorators.py:43: FutureWarning: Pass the following variable as a keyword arg: x. From version 0.12, the only valid positional argument will be `data`, and passing other arguments without an explicit keyword will result in an error or misinterpretation.\n",
      "  FutureWarning\n"
     ]
    },
    {
     "data": {
      "image/png": "[encoded data removed]",
      "text/plain": [
       "<Figure size 432x288 with 1 Axes>"
      ]
     },
     "metadata": {
      "needs_background": "light"
     },
     "output_type": "display_data"
    }
   ],
   "source": [
    "cols = ['bedrooms','bathrooms', 'sqft_living', 'sqft_lot', 'floors','condition',\n",
    "        'sqft_above', 'sqft_basement','yr_built', 'yr_renovated','price' ]\n",
    "for i in cols:\n",
    "    sns.boxplot(df[i],whis=1.5)\n",
    "    plt.show();"
   ]
  },
  {
   "cell_type": "code",
   "execution_count": 15,
   "id": "efcd026e",
   "metadata": {
    "execution": {
     "iopub.execute_input": "2023-01-14T10:51:19.946308Z",
     "iopub.status.busy": "2023-01-14T10:51:19.945200Z",
     "iopub.status.idle": "2023-01-14T10:51:22.417103Z",
     "shell.execute_reply": "2023-01-14T10:51:22.415571Z"
    },
    "papermill": {
     "duration": 2.502352,
     "end_time": "2023-01-14T10:51:22.419981",
     "exception": false,
     "start_time": "2023-01-14T10:51:19.917629",
     "status": "completed"
    },
    "tags": []
   },
   "outputs": [
    {
     "data": {
      "image/png": "[encoded data removed]",
      "text/plain": [
       "<Figure size 1440x2160 with 12 Axes>"
      ]
     },
     "metadata": {
      "needs_background": "light"
     },
     "output_type": "display_data"
    }
   ],
   "source": [
    "df1.hist(figsize=(20,30));"
   ]
  },
  {
   "cell_type": "code",
   "execution_count": 16,
   "id": "28ffd053",
   "metadata": {
    "execution": {
     "iopub.execute_input": "2023-01-14T10:51:22.476416Z",
     "iopub.status.busy": "2023-01-14T10:51:22.476015Z",
     "iopub.status.idle": "2023-01-14T10:51:22.490906Z",
     "shell.execute_reply": "2023-01-14T10:51:22.489784Z"
    },
    "papermill": {
     "duration": 0.045485,
     "end_time": "2023-01-14T10:51:22.493151",
     "exception": false,
     "start_time": "2023-01-14T10:51:22.447666",
     "status": "completed"
    },
    "tags": []
   },
   "outputs": [
    {
     "name": "stderr",
     "output_type": "stream",
     "text": [
      "/opt/conda/lib/python3.7/site-packages/pyforest/__init__.py:1: FutureWarning: Dropping of nuisance columns in DataFrame reductions (with 'numeric_only=None') is deprecated; in a future version this will raise TypeError.  Select only valid columns before calling the reduction.\n",
      "  # -*- coding: utf-8 -*-\n"
     ]
    },
    {
     "data": {
      "text/plain": [
       "price            24.790933\n",
       "bedrooms          0.456447\n",
       "bathrooms         0.616033\n",
       "sqft_living       1.723513\n",
       "sqft_lot         11.307139\n",
       "floors            0.551441\n",
       "condition         0.959068\n",
       "sqft_above        1.494211\n",
       "sqft_basement     1.642732\n",
       "yr_built         -0.502155\n",
       "yr_renovated      0.385919\n",
       "dtype: float64"
      ]
     },
     "execution_count": 16,
     "metadata": {},
     "output_type": "execute_result"
    }
   ],
   "source": [
    "df1.skew()"
   ]
  },
  {
   "cell_type": "code",
   "execution_count": 17,
   "id": "2acc4ffe",
   "metadata": {
    "execution": {
     "iopub.execute_input": "2023-01-14T10:51:22.549938Z",
     "iopub.status.busy": "2023-01-14T10:51:22.549482Z",
     "iopub.status.idle": "2023-01-14T10:51:23.205822Z",
     "shell.execute_reply": "2023-01-14T10:51:23.204406Z"
    },
    "papermill": {
     "duration": 0.688378,
     "end_time": "2023-01-14T10:51:23.208807",
     "exception": false,
     "start_time": "2023-01-14T10:51:22.520429",
     "status": "completed"
    },
    "tags": []
   },
   "outputs": [
    {
     "data": {
      "application/javascript": [
       "\n",
       "        if (window._pyforest_update_imports_cell) { window._pyforest_update_imports_cell('import numpy as np\\nimport pandas as pd\\nimport seaborn as sns'); }\n",
       "    "
      ],
      "text/plain": [
       "<IPython.core.display.Javascript object>"
      ]
     },
     "metadata": {},
     "output_type": "display_data"
    },
    {
     "data": {
      "application/javascript": [
       "\n",
       "        if (window._pyforest_update_imports_cell) { window._pyforest_update_imports_cell('import numpy as np\\nimport pandas as pd\\nimport seaborn as sns'); }\n",
       "    "
      ],
      "text/plain": [
       "<IPython.core.display.Javascript object>"
      ]
     },
     "metadata": {},
     "output_type": "display_data"
    },
    {
     "data": {
      "image/png": "[encoded data removed]",
      "text/plain": [
       "<Figure size 864x576 with 2 Axes>"
      ]
     },
     "metadata": {
      "needs_background": "light"
     },
     "output_type": "display_data"
    }
   ],
   "source": [
    "plt.figure(figsize=(12,8))\n",
    "sns.heatmap(df1.corr(),annot=True,fmt='.2f',cmap='rainbow',mask=np.triu(df1.corr(),+1))\n",
    "plt.show()"
   ]
  },
  {
   "cell_type": "markdown",
   "id": "127be4fc",
   "metadata": {
    "papermill": {
     "duration": 0.028957,
     "end_time": "2023-01-14T10:51:23.266896",
     "exception": false,
     "start_time": "2023-01-14T10:51:23.237939",
     "status": "completed"
    },
    "tags": []
   },
   "source": [
    "### Linear Regression model without categorical columns"
   ]
  },
  {
   "cell_type": "code",
   "execution_count": 18,
   "id": "b84f1b86",
   "metadata": {
    "execution": {
     "iopub.execute_input": "2023-01-14T10:51:23.325047Z",
     "iopub.status.busy": "2023-01-14T10:51:23.323749Z",
     "iopub.status.idle": "2023-01-14T10:51:23.330604Z",
     "shell.execute_reply": "2023-01-14T10:51:23.329747Z"
    },
    "papermill": {
     "duration": 0.038047,
     "end_time": "2023-01-14T10:51:23.333135",
     "exception": false,
     "start_time": "2023-01-14T10:51:23.295088",
     "status": "completed"
    },
    "tags": []
   },
   "outputs": [],
   "source": [
    "X = df1[['bedrooms','bathrooms','sqft_living','sqft_lot','sqft_above','floors',]]\n",
    "y = df1['price']"
   ]
  },
  {
   "cell_type": "code",
   "execution_count": 19,
   "id": "fe819762",
   "metadata": {
    "execution": {
     "iopub.execute_input": "2023-01-14T10:51:23.389441Z",
     "iopub.status.busy": "2023-01-14T10:51:23.388445Z",
     "iopub.status.idle": "2023-01-14T10:51:23.397762Z",
     "shell.execute_reply": "2023-01-14T10:51:23.396647Z"
    },
    "papermill": {
     "duration": 0.040517,
     "end_time": "2023-01-14T10:51:23.400649",
     "exception": false,
     "start_time": "2023-01-14T10:51:23.360132",
     "status": "completed"
    },
    "tags": []
   },
   "outputs": [],
   "source": [
    "X_train, X_test,Y_train, Y_test = train_test_split(X,y,test_size=0.2, random_state=1)"
   ]
  },
  {
   "cell_type": "code",
   "execution_count": 20,
   "id": "da442986",
   "metadata": {
    "execution": {
     "iopub.execute_input": "2023-01-14T10:51:23.458966Z",
     "iopub.status.busy": "2023-01-14T10:51:23.458548Z",
     "iopub.status.idle": "2023-01-14T10:51:23.491032Z",
     "shell.execute_reply": "2023-01-14T10:51:23.489935Z"
    },
    "papermill": {
     "duration": 0.06691,
     "end_time": "2023-01-14T10:51:23.495721",
     "exception": false,
     "start_time": "2023-01-14T10:51:23.428811",
     "status": "completed"
    },
    "tags": []
   },
   "outputs": [
    {
     "data": {
      "text/plain": [
       "LinearRegression()"
      ]
     },
     "execution_count": 20,
     "metadata": {},
     "output_type": "execute_result"
    }
   ],
   "source": [
    "lr = LinearRegression()\n",
    "lr.fit(X_train, Y_train)"
   ]
  },
  {
   "cell_type": "code",
   "execution_count": 21,
   "id": "790ed903",
   "metadata": {
    "execution": {
     "iopub.execute_input": "2023-01-14T10:51:23.561773Z",
     "iopub.status.busy": "2023-01-14T10:51:23.561348Z",
     "iopub.status.idle": "2023-01-14T10:51:23.573316Z",
     "shell.execute_reply": "2023-01-14T10:51:23.572041Z"
    },
    "papermill": {
     "duration": 0.044455,
     "end_time": "2023-01-14T10:51:23.575584",
     "exception": false,
     "start_time": "2023-01-14T10:51:23.531129",
     "status": "completed"
    },
    "tags": []
   },
   "outputs": [
    {
     "data": {
      "application/javascript": [
       "\n",
       "        if (window._pyforest_update_imports_cell) { window._pyforest_update_imports_cell('import numpy as np\\nimport pandas as pd\\nimport seaborn as sns'); }\n",
       "    "
      ],
      "text/plain": [
       "<IPython.core.display.Javascript object>"
      ]
     },
     "metadata": {},
     "output_type": "display_data"
    },
    {
     "name": "stdout",
     "output_type": "stream",
     "text": [
      "              Coefficient\n",
      "bedrooms    -56582.982767\n",
      "bathrooms    13876.899604\n",
      "sqft_living    308.143278\n",
      "sqft_lot        -0.665671\n",
      "sqft_above     -33.800644\n",
      "floors        2259.826250\n"
     ]
    }
   ],
   "source": [
    "coeff_df = pd.DataFrame(lr.coef_,X.columns,columns=['Coefficient'])\n",
    "print(coeff_df)"
   ]
  },
  {
   "cell_type": "code",
   "execution_count": 22,
   "id": "8345993f",
   "metadata": {
    "execution": {
     "iopub.execute_input": "2023-01-14T10:51:23.632666Z",
     "iopub.status.busy": "2023-01-14T10:51:23.631434Z",
     "iopub.status.idle": "2023-01-14T10:51:23.898018Z",
     "shell.execute_reply": "2023-01-14T10:51:23.896768Z"
    },
    "papermill": {
     "duration": 0.297849,
     "end_time": "2023-01-14T10:51:23.900563",
     "exception": false,
     "start_time": "2023-01-14T10:51:23.602714",
     "status": "completed"
    },
    "tags": []
   },
   "outputs": [
    {
     "data": {
      "text/plain": [
       "<matplotlib.collections.PathCollection at 0x7f5fbffe7510>"
      ]
     },
     "execution_count": 22,
     "metadata": {},
     "output_type": "execute_result"
    },
    {
     "data": {
      "image/png": "[encoded data removed]",
      "text/plain": [
       "<Figure size 432x288 with 1 Axes>"
      ]
     },
     "metadata": {
      "needs_background": "light"
     },
     "output_type": "display_data"
    }
   ],
   "source": [
    "predictions = lr.predict(X_test)\n",
    "plt.scatter(Y_test,predictions)"
   ]
  },
  {
   "cell_type": "code",
   "execution_count": 23,
   "id": "260dbfef",
   "metadata": {
    "execution": {
     "iopub.execute_input": "2023-01-14T10:51:23.960420Z",
     "iopub.status.busy": "2023-01-14T10:51:23.959954Z",
     "iopub.status.idle": "2023-01-14T10:51:24.357474Z",
     "shell.execute_reply": "2023-01-14T10:51:24.356132Z"
    },
    "papermill": {
     "duration": 0.430288,
     "end_time": "2023-01-14T10:51:24.360475",
     "exception": false,
     "start_time": "2023-01-14T10:51:23.930187",
     "status": "completed"
    },
    "tags": []
   },
   "outputs": [
    {
     "data": {
      "application/javascript": [
       "\n",
       "        if (window._pyforest_update_imports_cell) { window._pyforest_update_imports_cell('import numpy as np\\nimport pandas as pd\\nimport seaborn as sns'); }\n",
       "    "
      ],
      "text/plain": [
       "<IPython.core.display.Javascript object>"
      ]
     },
     "metadata": {},
     "output_type": "display_data"
    },
    {
     "name": "stderr",
     "output_type": "stream",
     "text": [
      "/opt/conda/lib/python3.7/site-packages/seaborn/distributions.py:2619: FutureWarning: `distplot` is a deprecated function and will be removed in a future version. Please adapt your code to use either `displot` (a figure-level function with similar flexibility) or `histplot` (an axes-level function for histograms).\n",
      "  warnings.warn(msg, FutureWarning)\n"
     ]
    },
    {
     "data": {
      "text/plain": [
       "<AxesSubplot:xlabel='price', ylabel='Density'>"
      ]
     },
     "execution_count": 23,
     "metadata": {},
     "output_type": "execute_result"
    },
    {
     "data": {
      "image/png": "[encoded data removed]",
      "text/plain": [
       "<Figure size 432x288 with 1 Axes>"
      ]
     },
     "metadata": {
      "needs_background": "light"
     },
     "output_type": "display_data"
    }
   ],
   "source": [
    "sns.distplot((Y_test-predictions), bins=50)"
   ]
  },
  {
   "cell_type": "code",
   "execution_count": 24,
   "id": "29c75a91",
   "metadata": {
    "execution": {
     "iopub.execute_input": "2023-01-14T10:51:24.422833Z",
     "iopub.status.busy": "2023-01-14T10:51:24.422336Z",
     "iopub.status.idle": "2023-01-14T10:51:24.435369Z",
     "shell.execute_reply": "2023-01-14T10:51:24.433646Z"
    },
    "papermill": {
     "duration": 0.046496,
     "end_time": "2023-01-14T10:51:24.437720",
     "exception": false,
     "start_time": "2023-01-14T10:51:24.391224",
     "status": "completed"
    },
    "tags": []
   },
   "outputs": [
    {
     "name": "stdout",
     "output_type": "stream",
     "text": [
      "Mean Absolute Error: 174688.3908802762\n",
      "Mean Squared Error: 69357053732.25664\n"
     ]
    },
    {
     "data": {
      "application/javascript": [
       "\n",
       "        if (window._pyforest_update_imports_cell) { window._pyforest_update_imports_cell('import numpy as np\\nimport pandas as pd\\nimport seaborn as sns'); }\n",
       "    "
      ],
      "text/plain": [
       "<IPython.core.display.Javascript object>"
      ]
     },
     "metadata": {},
     "output_type": "display_data"
    },
    {
     "name": "stdout",
     "output_type": "stream",
     "text": [
      "Root Mean Squared Error: 263357.27393078903\n"
     ]
    }
   ],
   "source": [
    "print('Mean Absolute Error:', metrics.mean_absolute_error(Y_test, predictions))\n",
    "print('Mean Squared Error:', metrics.mean_squared_error(Y_test, predictions))\n",
    "print('Root Mean Squared Error:', np.sqrt(metrics.mean_squared_error(Y_test, predictions)))"
   ]
  },
  {
   "cell_type": "code",
   "execution_count": 25,
   "id": "e6a309b2",
   "metadata": {
    "execution": {
     "iopub.execute_input": "2023-01-14T10:51:24.496539Z",
     "iopub.status.busy": "2023-01-14T10:51:24.495390Z",
     "iopub.status.idle": "2023-01-14T10:51:24.503861Z",
     "shell.execute_reply": "2023-01-14T10:51:24.502925Z"
    },
    "papermill": {
     "duration": 0.040548,
     "end_time": "2023-01-14T10:51:24.506212",
     "exception": false,
     "start_time": "2023-01-14T10:51:24.465664",
     "status": "completed"
    },
    "tags": []
   },
   "outputs": [],
   "source": [
    "X = df[['street','statezip','city','bedrooms','bathrooms','sqft_living','sqft_lot','sqft_above','floors',]]\n",
    "y = df['price']"
   ]
  },
  {
   "cell_type": "code",
   "execution_count": 26,
   "id": "68c052b0",
   "metadata": {
    "execution": {
     "iopub.execute_input": "2023-01-14T10:51:24.565229Z",
     "iopub.status.busy": "2023-01-14T10:51:24.564793Z",
     "iopub.status.idle": "2023-01-14T10:51:24.596235Z",
     "shell.execute_reply": "2023-01-14T10:51:24.595028Z"
    },
    "papermill": {
     "duration": 0.064805,
     "end_time": "2023-01-14T10:51:24.599243",
     "exception": false,
     "start_time": "2023-01-14T10:51:24.534438",
     "status": "completed"
    },
    "tags": []
   },
   "outputs": [],
   "source": [
    "from category_encoders import MEstimateEncoder"
   ]
  },
  {
   "cell_type": "code",
   "execution_count": 27,
   "id": "3f214476",
   "metadata": {
    "execution": {
     "iopub.execute_input": "2023-01-14T10:51:24.658947Z",
     "iopub.status.busy": "2023-01-14T10:51:24.658079Z",
     "iopub.status.idle": "2023-01-14T10:51:24.735101Z",
     "shell.execute_reply": "2023-01-14T10:51:24.733944Z"
    },
    "papermill": {
     "duration": 0.110881,
     "end_time": "2023-01-14T10:51:24.738566",
     "exception": false,
     "start_time": "2023-01-14T10:51:24.627685",
     "status": "completed"
    },
    "tags": []
   },
   "outputs": [],
   "source": [
    "encoder = MEstimateEncoder(cols=['street','statezip','city'],m=0.5)\n",
    "encoder.fit(X,y)\n",
    "X_transformed = encoder.transform(X)"
   ]
  },
  {
   "cell_type": "code",
   "execution_count": 28,
   "id": "dceef95b",
   "metadata": {
    "execution": {
     "iopub.execute_input": "2023-01-14T10:51:24.802639Z",
     "iopub.status.busy": "2023-01-14T10:51:24.801228Z",
     "iopub.status.idle": "2023-01-14T10:51:24.828559Z",
     "shell.execute_reply": "2023-01-14T10:51:24.827211Z"
    },
    "papermill": {
     "duration": 0.061474,
     "end_time": "2023-01-14T10:51:24.831254",
     "exception": false,
     "start_time": "2023-01-14T10:51:24.769780",
     "status": "completed"
    },
    "tags": []
   },
   "outputs": [
    {
     "data": {
      "text/html": [
       "<div>\n",
       "<style scoped>\n",
       "    .dataframe tbody tr th:only-of-type {\n",
       "        vertical-align: middle;\n",
       "    }\n",
       "\n",
       "    .dataframe tbody tr th {\n",
       "        vertical-align: top;\n",
       "    }\n",
       "\n",
       "    .dataframe thead th {\n",
       "        text-align: right;\n",
       "    }\n",
       "</style>\n",
       "<table border=\"1\" class=\"dataframe\">\n",
       "  <thead>\n",
       "    <tr style=\"text-align: right;\">\n",
       "      <th></th>\n",
       "      <th>street</th>\n",
       "      <th>statezip</th>\n",
       "      <th>city</th>\n",
       "      <th>bedrooms</th>\n",
       "      <th>bathrooms</th>\n",
       "      <th>sqft_living</th>\n",
       "      <th>sqft_lot</th>\n",
       "      <th>sqft_above</th>\n",
       "      <th>floors</th>\n",
       "    </tr>\n",
       "    <tr>\n",
       "      <th>date</th>\n",
       "      <th></th>\n",
       "      <th></th>\n",
       "      <th></th>\n",
       "      <th></th>\n",
       "      <th></th>\n",
       "      <th></th>\n",
       "      <th></th>\n",
       "      <th></th>\n",
       "      <th></th>\n",
       "    </tr>\n",
       "  </thead>\n",
       "  <tbody>\n",
       "    <tr>\n",
       "      <th>2014-05-02 00:00:00</th>\n",
       "      <td>380997.768414</td>\n",
       "      <td>375195.586303</td>\n",
       "      <td>409173.643161</td>\n",
       "      <td>3.0</td>\n",
       "      <td>1.50</td>\n",
       "      <td>1340.0</td>\n",
       "      <td>7912.0</td>\n",
       "      <td>1340.0</td>\n",
       "      <td>1.5</td>\n",
       "    </tr>\n",
       "    <tr>\n",
       "      <th>2014-05-02 00:00:00</th>\n",
       "      <td>941060.268414</td>\n",
       "      <td>788416.977831</td>\n",
       "      <td>546380.248504</td>\n",
       "      <td>5.0</td>\n",
       "      <td>2.50</td>\n",
       "      <td>3650.0</td>\n",
       "      <td>9050.0</td>\n",
       "      <td>3370.0</td>\n",
       "      <td>2.0</td>\n",
       "    </tr>\n",
       "    <tr>\n",
       "      <th>2014-05-02 00:00:00</th>\n",
       "      <td>400331.101747</td>\n",
       "      <td>310806.838406</td>\n",
       "      <td>302575.162601</td>\n",
       "      <td>3.0</td>\n",
       "      <td>2.00</td>\n",
       "      <td>1930.0</td>\n",
       "      <td>11947.0</td>\n",
       "      <td>1930.0</td>\n",
       "      <td>1.0</td>\n",
       "    </tr>\n",
       "    <tr>\n",
       "      <th>2014-05-02 00:00:00</th>\n",
       "      <td>452331.101747</td>\n",
       "      <td>560315.503022</td>\n",
       "      <td>750011.154692</td>\n",
       "      <td>3.0</td>\n",
       "      <td>2.25</td>\n",
       "      <td>2000.0</td>\n",
       "      <td>8030.0</td>\n",
       "      <td>1000.0</td>\n",
       "      <td>1.0</td>\n",
       "    </tr>\n",
       "    <tr>\n",
       "      <th>2014-05-02 00:00:00</th>\n",
       "      <td>538997.768414</td>\n",
       "      <td>632433.256585</td>\n",
       "      <td>657240.931321</td>\n",
       "      <td>4.0</td>\n",
       "      <td>2.50</td>\n",
       "      <td>1940.0</td>\n",
       "      <td>10500.0</td>\n",
       "      <td>1140.0</td>\n",
       "      <td>1.0</td>\n",
       "    </tr>\n",
       "    <tr>\n",
       "      <th>...</th>\n",
       "      <td>...</td>\n",
       "      <td>...</td>\n",
       "      <td>...</td>\n",
       "      <td>...</td>\n",
       "      <td>...</td>\n",
       "      <td>...</td>\n",
       "      <td>...</td>\n",
       "      <td>...</td>\n",
       "      <td>...</td>\n",
       "    </tr>\n",
       "    <tr>\n",
       "      <th>2014-07-09 00:00:00</th>\n",
       "      <td>377775.546192</td>\n",
       "      <td>375195.586303</td>\n",
       "      <td>546380.248504</td>\n",
       "      <td>3.0</td>\n",
       "      <td>1.75</td>\n",
       "      <td>1510.0</td>\n",
       "      <td>6360.0</td>\n",
       "      <td>1510.0</td>\n",
       "      <td>1.0</td>\n",
       "    </tr>\n",
       "    <tr>\n",
       "      <th>2014-07-09 00:00:00</th>\n",
       "      <td>528553.323969</td>\n",
       "      <td>635636.043948</td>\n",
       "      <td>750011.154692</td>\n",
       "      <td>3.0</td>\n",
       "      <td>2.50</td>\n",
       "      <td>1460.0</td>\n",
       "      <td>7573.0</td>\n",
       "      <td>1460.0</td>\n",
       "      <td>2.0</td>\n",
       "    </tr>\n",
       "    <tr>\n",
       "      <th>2014-07-09 00:00:00</th>\n",
       "      <td>450267.212858</td>\n",
       "      <td>498657.237409</td>\n",
       "      <td>377279.385986</td>\n",
       "      <td>3.0</td>\n",
       "      <td>2.50</td>\n",
       "      <td>3010.0</td>\n",
       "      <td>7014.0</td>\n",
       "      <td>3010.0</td>\n",
       "      <td>2.0</td>\n",
       "    </tr>\n",
       "    <tr>\n",
       "      <th>2014-07-10 00:00:00</th>\n",
       "      <td>307931.101747</td>\n",
       "      <td>266468.829683</td>\n",
       "      <td>546380.248504</td>\n",
       "      <td>4.0</td>\n",
       "      <td>2.00</td>\n",
       "      <td>2090.0</td>\n",
       "      <td>6630.0</td>\n",
       "      <td>1070.0</td>\n",
       "      <td>1.0</td>\n",
       "    </tr>\n",
       "    <tr>\n",
       "      <th>2014-07-10 00:00:00</th>\n",
       "      <td>319397.768414</td>\n",
       "      <td>310806.838406</td>\n",
       "      <td>274703.391850</td>\n",
       "      <td>3.0</td>\n",
       "      <td>2.50</td>\n",
       "      <td>1490.0</td>\n",
       "      <td>8102.0</td>\n",
       "      <td>1490.0</td>\n",
       "      <td>2.0</td>\n",
       "    </tr>\n",
       "  </tbody>\n",
       "</table>\n",
       "<p>4600 rows × 9 columns</p>\n",
       "</div>"
      ],
      "text/plain": [
       "                            street       statezip           city  bedrooms  \\\n",
       "date                                                                         \n",
       "2014-05-02 00:00:00  380997.768414  375195.586303  409173.643161       3.0   \n",
       "2014-05-02 00:00:00  941060.268414  788416.977831  546380.248504       5.0   \n",
       "2014-05-02 00:00:00  400331.101747  310806.838406  302575.162601       3.0   \n",
       "2014-05-02 00:00:00  452331.101747  560315.503022  750011.154692       3.0   \n",
       "2014-05-02 00:00:00  538997.768414  632433.256585  657240.931321       4.0   \n",
       "...                            ...            ...            ...       ...   \n",
       "2014-07-09 00:00:00  377775.546192  375195.586303  546380.248504       3.0   \n",
       "2014-07-09 00:00:00  528553.323969  635636.043948  750011.154692       3.0   \n",
       "2014-07-09 00:00:00  450267.212858  498657.237409  377279.385986       3.0   \n",
       "2014-07-10 00:00:00  307931.101747  266468.829683  546380.248504       4.0   \n",
       "2014-07-10 00:00:00  319397.768414  310806.838406  274703.391850       3.0   \n",
       "\n",
       "                     bathrooms  sqft_living  sqft_lot  sqft_above  floors  \n",
       "date                                                                       \n",
       "2014-05-02 00:00:00       1.50       1340.0    7912.0      1340.0     1.5  \n",
       "2014-05-02 00:00:00       2.50       3650.0    9050.0      3370.0     2.0  \n",
       "2014-05-02 00:00:00       2.00       1930.0   11947.0      1930.0     1.0  \n",
       "2014-05-02 00:00:00       2.25       2000.0    8030.0      1000.0     1.0  \n",
       "2014-05-02 00:00:00       2.50       1940.0   10500.0      1140.0     1.0  \n",
       "...                        ...          ...       ...         ...     ...  \n",
       "2014-07-09 00:00:00       1.75       1510.0    6360.0      1510.0     1.0  \n",
       "2014-07-09 00:00:00       2.50       1460.0    7573.0      1460.0     2.0  \n",
       "2014-07-09 00:00:00       2.50       3010.0    7014.0      3010.0     2.0  \n",
       "2014-07-10 00:00:00       2.00       2090.0    6630.0      1070.0     1.0  \n",
       "2014-07-10 00:00:00       2.50       1490.0    8102.0      1490.0     2.0  \n",
       "\n",
       "[4600 rows x 9 columns]"
      ]
     },
     "execution_count": 28,
     "metadata": {},
     "output_type": "execute_result"
    }
   ],
   "source": [
    "X_transformed"
   ]
  },
  {
   "cell_type": "code",
   "execution_count": 29,
   "id": "da593e11",
   "metadata": {
    "execution": {
     "iopub.execute_input": "2023-01-14T10:51:24.892377Z",
     "iopub.status.busy": "2023-01-14T10:51:24.891114Z",
     "iopub.status.idle": "2023-01-14T10:51:24.898841Z",
     "shell.execute_reply": "2023-01-14T10:51:24.897719Z"
    },
    "papermill": {
     "duration": 0.040588,
     "end_time": "2023-01-14T10:51:24.901448",
     "exception": false,
     "start_time": "2023-01-14T10:51:24.860860",
     "status": "completed"
    },
    "tags": []
   },
   "outputs": [],
   "source": [
    "from sklearn.model_selection import train_test_split\n",
    "x_train,x_test,y_train,y_test = train_test_split(X_transformed.values,y.values,test_size=0.2,random_state=0)"
   ]
  },
  {
   "cell_type": "code",
   "execution_count": 30,
   "id": "1c4cd7d4",
   "metadata": {
    "execution": {
     "iopub.execute_input": "2023-01-14T10:51:24.965056Z",
     "iopub.status.busy": "2023-01-14T10:51:24.964648Z",
     "iopub.status.idle": "2023-01-14T10:51:24.969897Z",
     "shell.execute_reply": "2023-01-14T10:51:24.968573Z"
    },
    "papermill": {
     "duration": 0.040402,
     "end_time": "2023-01-14T10:51:24.972538",
     "exception": false,
     "start_time": "2023-01-14T10:51:24.932136",
     "status": "completed"
    },
    "tags": []
   },
   "outputs": [],
   "source": [
    "from sklearn.linear_model import LinearRegression"
   ]
  },
  {
   "cell_type": "code",
   "execution_count": 31,
   "id": "69af00f3",
   "metadata": {
    "execution": {
     "iopub.execute_input": "2023-01-14T10:51:25.033546Z",
     "iopub.status.busy": "2023-01-14T10:51:25.032979Z",
     "iopub.status.idle": "2023-01-14T10:51:25.038275Z",
     "shell.execute_reply": "2023-01-14T10:51:25.036951Z"
    },
    "papermill": {
     "duration": 0.038517,
     "end_time": "2023-01-14T10:51:25.040612",
     "exception": false,
     "start_time": "2023-01-14T10:51:25.002095",
     "status": "completed"
    },
    "tags": []
   },
   "outputs": [],
   "source": [
    "regressor = LinearRegression()"
   ]
  },
  {
   "cell_type": "code",
   "execution_count": 32,
   "id": "b6cebcc7",
   "metadata": {
    "execution": {
     "iopub.execute_input": "2023-01-14T10:51:25.102431Z",
     "iopub.status.busy": "2023-01-14T10:51:25.102043Z",
     "iopub.status.idle": "2023-01-14T10:51:25.114365Z",
     "shell.execute_reply": "2023-01-14T10:51:25.113192Z"
    },
    "papermill": {
     "duration": 0.046245,
     "end_time": "2023-01-14T10:51:25.116740",
     "exception": false,
     "start_time": "2023-01-14T10:51:25.070495",
     "status": "completed"
    },
    "tags": []
   },
   "outputs": [
    {
     "data": {
      "text/plain": [
       "LinearRegression()"
      ]
     },
     "execution_count": 32,
     "metadata": {},
     "output_type": "execute_result"
    }
   ],
   "source": [
    "regressor.fit(x_train,y_train)"
   ]
  },
  {
   "cell_type": "code",
   "execution_count": 33,
   "id": "b78c39d8",
   "metadata": {
    "execution": {
     "iopub.execute_input": "2023-01-14T10:51:25.179802Z",
     "iopub.status.busy": "2023-01-14T10:51:25.178470Z",
     "iopub.status.idle": "2023-01-14T10:51:25.185667Z",
     "shell.execute_reply": "2023-01-14T10:51:25.184318Z"
    },
    "papermill": {
     "duration": 0.04169,
     "end_time": "2023-01-14T10:51:25.188577",
     "exception": false,
     "start_time": "2023-01-14T10:51:25.146887",
     "status": "completed"
    },
    "tags": []
   },
   "outputs": [],
   "source": [
    "y_pred = regressor.predict(x_test)"
   ]
  },
  {
   "cell_type": "code",
   "execution_count": 34,
   "id": "7150186e",
   "metadata": {
    "execution": {
     "iopub.execute_input": "2023-01-14T10:51:25.250165Z",
     "iopub.status.busy": "2023-01-14T10:51:25.249026Z",
     "iopub.status.idle": "2023-01-14T10:51:25.260487Z",
     "shell.execute_reply": "2023-01-14T10:51:25.259600Z"
    },
    "papermill": {
     "duration": 0.044727,
     "end_time": "2023-01-14T10:51:25.262904",
     "exception": false,
     "start_time": "2023-01-14T10:51:25.218177",
     "status": "completed"
    },
    "tags": []
   },
   "outputs": [
    {
     "data": {
      "application/javascript": [
       "\n",
       "        if (window._pyforest_update_imports_cell) { window._pyforest_update_imports_cell('import numpy as np\\nimport pandas as pd\\nimport seaborn as sns'); }\n",
       "    "
      ],
      "text/plain": [
       "<IPython.core.display.Javascript object>"
      ]
     },
     "metadata": {},
     "output_type": "display_data"
    },
    {
     "data": {
      "text/plain": [
       "array([[289000.        , 291597.22470974],\n",
       "       [429900.        , 431423.40717369],\n",
       "       [129000.        , 128681.32492922],\n",
       "       ...,\n",
       "       [ 83300.        ,  83917.24637983],\n",
       "       [520000.        , 521337.89742158],\n",
       "       [215000.        , 214496.0146468 ]])"
      ]
     },
     "execution_count": 34,
     "metadata": {},
     "output_type": "execute_result"
    }
   ],
   "source": [
    "np.concatenate((y_test.reshape(len(y_test),1),y_pred.reshape(len(y_pred),1)),1)"
   ]
  },
  {
   "cell_type": "code",
   "execution_count": 35,
   "id": "721d87d3",
   "metadata": {
    "execution": {
     "iopub.execute_input": "2023-01-14T10:51:25.323473Z",
     "iopub.status.busy": "2023-01-14T10:51:25.322230Z",
     "iopub.status.idle": "2023-01-14T10:51:25.327984Z",
     "shell.execute_reply": "2023-01-14T10:51:25.327100Z"
    },
    "papermill": {
     "duration": 0.038461,
     "end_time": "2023-01-14T10:51:25.330350",
     "exception": false,
     "start_time": "2023-01-14T10:51:25.291889",
     "status": "completed"
    },
    "tags": []
   },
   "outputs": [],
   "source": [
    "from sklearn.metrics import mean_absolute_error,mean_squared_error,r2_score"
   ]
  },
  {
   "cell_type": "code",
   "execution_count": 36,
   "id": "bbef7aaa",
   "metadata": {
    "execution": {
     "iopub.execute_input": "2023-01-14T10:51:25.391358Z",
     "iopub.status.busy": "2023-01-14T10:51:25.389989Z",
     "iopub.status.idle": "2023-01-14T10:51:25.399477Z",
     "shell.execute_reply": "2023-01-14T10:51:25.397906Z"
    },
    "papermill": {
     "duration": 0.042739,
     "end_time": "2023-01-14T10:51:25.402139",
     "exception": false,
     "start_time": "2023-01-14T10:51:25.359400",
     "status": "completed"
    },
    "tags": []
   },
   "outputs": [
    {
     "name": "stdout",
     "output_type": "stream",
     "text": [
      "3070.599925145078\n",
      "294074748.0195043\n",
      "0.9956666839383742\n"
     ]
    }
   ],
   "source": [
    "print(mean_absolute_error(y_test,y_pred))\n",
    "print(mean_squared_error(y_test,y_pred))\n",
    "print(r2_score(y_test,y_pred))"
   ]
  },
  {
   "cell_type": "code",
   "execution_count": 37,
   "id": "1a4b00a5",
   "metadata": {
    "execution": {
     "iopub.execute_input": "2023-01-14T10:51:25.463715Z",
     "iopub.status.busy": "2023-01-14T10:51:25.462555Z",
     "iopub.status.idle": "2023-01-14T10:51:26.695835Z",
     "shell.execute_reply": "2023-01-14T10:51:26.692452Z"
    },
    "papermill": {
     "duration": 1.269751,
     "end_time": "2023-01-14T10:51:26.701627",
     "exception": false,
     "start_time": "2023-01-14T10:51:25.431876",
     "status": "completed"
    },
    "tags": []
   },
   "outputs": [
    {
     "name": "stdout",
     "output_type": "stream",
     "text": [
      "Accuracy: 99.70 %\n",
      "Standard Deviation: 0.30 %\n"
     ]
    }
   ],
   "source": [
    "from sklearn.model_selection import cross_val_score\n",
    "cvs = cross_val_score(regressor,x_train,y_train,cv=10,n_jobs=-1)\n",
    "print('Accuracy: {:.2f} %'.format(cvs.mean()*100))\n",
    "print('Standard Deviation: {:.2f} %'.format(cvs.std()*100))"
   ]
  },
  {
   "cell_type": "markdown",
   "id": "46132bff",
   "metadata": {
    "papermill": {
     "duration": 0.031349,
     "end_time": "2023-01-14T10:51:26.768000",
     "exception": false,
     "start_time": "2023-01-14T10:51:26.736651",
     "status": "completed"
    },
    "tags": []
   },
   "source": [
    "### Using XGBoost "
   ]
  },
  {
   "cell_type": "code",
   "execution_count": 38,
   "id": "f8bc29a5",
   "metadata": {
    "execution": {
     "iopub.execute_input": "2023-01-14T10:51:26.837454Z",
     "iopub.status.busy": "2023-01-14T10:51:26.836118Z",
     "iopub.status.idle": "2023-01-14T10:51:26.955182Z",
     "shell.execute_reply": "2023-01-14T10:51:26.953940Z"
    },
    "papermill": {
     "duration": 0.156854,
     "end_time": "2023-01-14T10:51:26.958231",
     "exception": false,
     "start_time": "2023-01-14T10:51:26.801377",
     "status": "completed"
    },
    "tags": []
   },
   "outputs": [],
   "source": [
    "import xgboost as xg\n",
    "from sklearn.model_selection import train_test_split\n",
    "from sklearn.metrics import mean_squared_error as MSE"
   ]
  },
  {
   "cell_type": "code",
   "execution_count": 39,
   "id": "6db21353",
   "metadata": {
    "execution": {
     "iopub.execute_input": "2023-01-14T10:51:27.019698Z",
     "iopub.status.busy": "2023-01-14T10:51:27.019208Z",
     "iopub.status.idle": "2023-01-14T10:51:27.028127Z",
     "shell.execute_reply": "2023-01-14T10:51:27.027023Z"
    },
    "papermill": {
     "duration": 0.042418,
     "end_time": "2023-01-14T10:51:27.030755",
     "exception": false,
     "start_time": "2023-01-14T10:51:26.988337",
     "status": "completed"
    },
    "tags": []
   },
   "outputs": [],
   "source": [
    "train_X, test_X, train_y, test_y = train_test_split(X_transformed, y,\n",
    "                      test_size = 0.3, random_state = 123)\n"
   ]
  },
  {
   "cell_type": "code",
   "execution_count": 40,
   "id": "a24925c3",
   "metadata": {
    "execution": {
     "iopub.execute_input": "2023-01-14T10:51:27.091767Z",
     "iopub.status.busy": "2023-01-14T10:51:27.091328Z",
     "iopub.status.idle": "2023-01-14T10:51:27.096199Z",
     "shell.execute_reply": "2023-01-14T10:51:27.095228Z"
    },
    "papermill": {
     "duration": 0.038735,
     "end_time": "2023-01-14T10:51:27.098684",
     "exception": false,
     "start_time": "2023-01-14T10:51:27.059949",
     "status": "completed"
    },
    "tags": []
   },
   "outputs": [],
   "source": [
    "xgb_r = xg.XGBRegressor(objective ='reg:linear',\n",
    "                  n_estimators = 10, seed = 123)"
   ]
  },
  {
   "cell_type": "code",
   "execution_count": 41,
   "id": "be205926",
   "metadata": {
    "execution": {
     "iopub.execute_input": "2023-01-14T10:51:27.161548Z",
     "iopub.status.busy": "2023-01-14T10:51:27.161111Z",
     "iopub.status.idle": "2023-01-14T10:51:27.266501Z",
     "shell.execute_reply": "2023-01-14T10:51:27.265332Z"
    },
    "papermill": {
     "duration": 0.140305,
     "end_time": "2023-01-14T10:51:27.269171",
     "exception": false,
     "start_time": "2023-01-14T10:51:27.128866",
     "status": "completed"
    },
    "tags": []
   },
   "outputs": [
    {
     "name": "stdout",
     "output_type": "stream",
     "text": [
      "[10:51:27] WARNING: ../src/objective/regression_obj.cu:203: reg:linear is now deprecated in favor of reg:squarederror.\n"
     ]
    },
    {
     "data": {
      "text/plain": [
       "XGBRegressor(base_score=0.5, booster='gbtree', callbacks=None,\n",
       "             colsample_bylevel=1, colsample_bynode=1, colsample_bytree=1,\n",
       "             early_stopping_rounds=None, enable_categorical=False,\n",
       "             eval_metric=None, gamma=0, gpu_id=-1, grow_policy='depthwise',\n",
       "             importance_type=None, interaction_constraints='',\n",
       "             learning_rate=0.300000012, max_bin=256, max_cat_to_onehot=4,\n",
       "             max_delta_step=0, max_depth=6, max_leaves=0, min_child_weight=1,\n",
       "             missing=nan, monotone_constraints='()', n_estimators=10, n_jobs=0,\n",
       "             num_parallel_tree=1, objective='reg:linear', predictor='auto',\n",
       "             random_state=123, reg_alpha=0, ...)"
      ]
     },
     "execution_count": 41,
     "metadata": {},
     "output_type": "execute_result"
    }
   ],
   "source": [
    "xgb_r.fit(train_X, train_y)"
   ]
  },
  {
   "cell_type": "code",
   "execution_count": 42,
   "id": "1cdbadf6",
   "metadata": {
    "execution": {
     "iopub.execute_input": "2023-01-14T10:51:27.337005Z",
     "iopub.status.busy": "2023-01-14T10:51:27.336496Z",
     "iopub.status.idle": "2023-01-14T10:51:27.347729Z",
     "shell.execute_reply": "2023-01-14T10:51:27.346615Z"
    },
    "papermill": {
     "duration": 0.047914,
     "end_time": "2023-01-14T10:51:27.351682",
     "exception": false,
     "start_time": "2023-01-14T10:51:27.303768",
     "status": "completed"
    },
    "tags": []
   },
   "outputs": [],
   "source": [
    "pred = xgb_r.predict(test_X)\n",
    "  "
   ]
  },
  {
   "cell_type": "code",
   "execution_count": 43,
   "id": "a760321f",
   "metadata": {
    "execution": {
     "iopub.execute_input": "2023-01-14T10:51:27.419876Z",
     "iopub.status.busy": "2023-01-14T10:51:27.419430Z",
     "iopub.status.idle": "2023-01-14T10:51:27.430076Z",
     "shell.execute_reply": "2023-01-14T10:51:27.428598Z"
    },
    "papermill": {
     "duration": 0.047385,
     "end_time": "2023-01-14T10:51:27.432973",
     "exception": false,
     "start_time": "2023-01-14T10:51:27.385588",
     "status": "completed"
    },
    "tags": []
   },
   "outputs": [
    {
     "data": {
      "application/javascript": [
       "\n",
       "        if (window._pyforest_update_imports_cell) { window._pyforest_update_imports_cell('import numpy as np\\nimport pandas as pd\\nimport seaborn as sns'); }\n",
       "    "
      ],
      "text/plain": [
       "<IPython.core.display.Javascript object>"
      ]
     },
     "metadata": {},
     "output_type": "display_data"
    },
    {
     "name": "stdout",
     "output_type": "stream",
     "text": [
      "RMSE :  22204.068051\n"
     ]
    }
   ],
   "source": [
    "\n",
    "rmse = np.sqrt(MSE(test_y, pred))\n",
    "print(\"RMSE : % f\" %(rmse))"
   ]
  }
 ],
 "metadata": {
  "kernelspec": {
   "display_name": "Python 3",
   "language": "python",
   "name": "python3"
  },
  "language_info": {
   "codemirror_mode": {
    "name": "ipython",
    "version": 3
   },
   "file_extension": ".py",
   "mimetype": "text/x-python",
   "name": "python",
   "nbconvert_exporter": "python",
   "pygments_lexer": "ipython3",
   "version": "3.7.12"
  },
  "papermill": {
   "default_parameters": {},
   "duration": 43.625148,
   "end_time": "2023-01-14T10:51:30.086039",
   "environment_variables": {},
   "exception": null,
   "input_path": "__notebook__.ipynb",
   "output_path": "__notebook__.ipynb",
   "parameters": {},
   "start_time": "2023-01-14T10:50:46.460891",
   "version": "2.3.4"
  }
 },
 "nbformat": 4,
 "nbformat_minor": 5
}
